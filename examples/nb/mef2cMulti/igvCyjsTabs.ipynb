{
 "cells": [
  {
   "cell_type": "code",
   "execution_count": 54,
   "metadata": {
    "collapsed": true
   },
   "outputs": [],
   "source": [
    "import requests\n",
    "import ipywidgets as widgets\n",
    "import json\n",
    "import time\n",
    "import os\n",
    "from IPython.display import display, HTML\n",
    "from traitlets import Int, Unicode, observe"
   ]
  },
  {
   "cell_type": "code",
   "execution_count": 55,
   "metadata": {},
   "outputs": [
    {
     "data": {
      "text/html": [
       "<link rel=\"stylesheet\" type=\"text/css\" href=\"//igv.org/web/release/1.0.6/igv-1.0.6.css\">"
      ],
      "text/plain": [
       "<IPython.core.display.HTML object>"
      ]
     },
     "metadata": {},
     "output_type": "display_data"
    }
   ],
   "source": [
    "display(HTML('<link rel=\"stylesheet\" type=\"text/css\" href=\"//igv.org/web/release/1.0.6/igv-1.0.6.css\">'))"
   ]
  },
  {
   "cell_type": "code",
   "execution_count": 56,
   "metadata": {
    "collapsed": true
   },
   "outputs": [],
   "source": [
    "class TabsWidget(widgets.DOMWidget):\n",
    "    \n",
    "    _view_name = Unicode('TabsView').tag(sync=True)\n",
    "    _view_module = Unicode('tabsDemo').tag(sync=True)\n",
    "    frameHeight = Int(300).tag(sync=True)\n",
    "    _chromLocString = \"chr1:0-0\";\n",
    "    _rawMessage = \"\";\n",
    "    _incomingMessage = {};\n",
    "    msgFromKernel = Unicode(\"{}\").tag(sync=True)\n",
    "    msgFromBrowser = Unicode(\"{}\").tag(sync=True)\n",
    "    status = \"initial status message\\n\"\n",
    "\n",
    "       # ensure that any ensuing message is seen as novel in the browser\n",
    "       # the message (a json-ified string) is a mutable traitlet.  the browser only sees \n",
    "       # the message if it changes\n",
    "    def _sendResetMessageToBrowser(self):  \n",
    "       self.msgFromKernel = json.dumps({\"cmd\": \"cleanSlate\", \"status\": \"nop\", \"callback\": \"\", \"payload\": \"\"});\n",
    "\n",
    "    def setHeight(self, height):\n",
    "       print(\"setHeight(%d) \"% height)\n",
    "       self.frameHeight = height\n",
    "        \n",
    "    def getChromLocString(self):\n",
    "        return self._chromLocString\n",
    "    \n",
    "    def ping(self):\n",
    "        self._sendResetMessageToBrowser()\n",
    "        self.msgFromKernel = json.dumps({\"cmd\": \"ping\", \"status\": \"request\", \"callback\": \"\", \"payload\": \"\"});\n",
    "\n",
    "    def deleteGraph(self):\n",
    "      self._sendResetMessageToBrowser()\n",
    "      self.msgFromKernel = json.dumps({\"cmd\": \"deleteGraph\", \"status\": \"request\", \"callback\": \"\", \"payload\": \"\"});\n",
    "\n",
    "    def addGraph(self, gjson):\n",
    "      self._sendResetMessageToBrowser();\n",
    "      self.msgFromKernel = json.dumps({\"cmd\": \"addGraph\", \"status\": \"request\",\n",
    "                                       \"callback\": \"\",    \"payload\": gjson});\n",
    "    def availableLayouts(self):\n",
    "        return([\"grid\", \"null\", \"random\", \"cose\", \"circle\", \"concentric\", \"breadthfirst\"]);\n",
    "\n",
    "    def layout(self, name):\n",
    "      self._sendResetMessageToBrowser();\n",
    "      self.msgFromKernel = json.dumps({\"cmd\": \"layout\", \"status\": \"request\", \"callback\": \"\", \"payload\": name});\n",
    "\n",
    "    def tfGridLayout(self):\n",
    "      self._sendResetMessageToBrowser();\n",
    "      self.msgFromKernel = json.dumps({\"cmd\": \"tfGridLayout\", \"status\": \"request\", \"callback\": \"\", \"payload\": \"\"});\n",
    "\n",
    "    def selectedNodeGridLayout(self, name):\n",
    "      self._sendResetMessageToBrowser();\n",
    "      self.msgFromKernel = json.dumps({\"cmd\": \"selectedNodeGridLayout\", \"status\": \"request\", \"callback\": \"\", \"payload\": \"\"});\n",
    "\n",
    "\n",
    "    def loadNetworkStyleFile(self, filename):\n",
    "      if(not os.path.isfile(filename)):\n",
    "        print(\"file '%s' not found\" % filename)\n",
    "        return;\n",
    "      self._sendResetMessageToBrowser();\n",
    "      self.msgFromKernel = json.dumps({\"cmd\": \"loadNetworkStyleFile\", \"status\": \"request\", \"callback\": \"\", \n",
    "                                       \"payload\": filename});\n",
    "        \n",
    "\n",
    "    @observe('msgFromBrowser')\n",
    "    def msg_arrived(self, change):\n",
    "       #self.status += \"msgFromBrowser has arrived: %f\\n\" % time.time()\n",
    "       self._rawMessage = change['new']\n",
    "       #self.status += \"rawMessage: %s\\n\" % self._rawMessage\n",
    "       self._incomingMessage = json.loads(self._rawMessage)\n",
    "       cmd = self._incomingMessage[\"cmd\"]\n",
    "       #self.status += \"cmd: %s\\n\"  % cmd\n",
    "       if(cmd == \"updateChromLocString\"):\n",
    "          self._chromLocString = self._incomingMessage[\"payload\"]\n",
    "       else:\n",
    "         self.status += \"unrecognized cmd: '%s'\" % cmd\n"
   ]
  },
  {
   "cell_type": "code",
   "execution_count": 57,
   "metadata": {},
   "outputs": [
    {
     "data": {
      "text/html": [
       "\n",
       "<style>\n",
       "    div#notebook-container    { width: 97%; }\n",
       "    div#menubar-container     { width: 65%; }\n",
       "    div#maintoolbar-container { width: 99%; }\n",
       "</style>\n"
      ],
      "text/plain": [
       "<IPython.core.display.HTML object>"
      ]
     },
     "metadata": {},
     "output_type": "display_data"
    }
   ],
   "source": [
    "display(HTML(data=\"\"\"\n",
    "<style>\n",
    "    div#notebook-container    { width: 97%; }\n",
    "    div#menubar-container     { width: 65%; }\n",
    "    div#maintoolbar-container { width: 99%; }\n",
    "</style>\n",
    "\"\"\"))"
   ]
  },
  {
   "cell_type": "code",
   "execution_count": 60,
   "metadata": {},
   "outputs": [
    {
     "data": {
      "application/javascript": [
       "\"use strict\"\n",
       "require.config({\n",
       "    shim: {'bootstrap': {'deps' :['jquery']},\n",
       "           'igv':       {'deps' :['jquery', 'jquery-ui', 'bootstrap']}\n",
       "           },\n",
       "\n",
       "    paths: {'jquery'    :   'http://code.jquery.com/jquery-1.12.4.min',\n",
       "            'jquery-ui' :   'http://code.jquery.com/ui/1.12.1/jquery-ui.min',\n",
       "            'cytoscape' :   'http://cytoscape.github.io/cytoscape.js/api/cytoscape.js-latest/cytoscape',\n",
       "            //'cytoscape' :   'http://localhost:8099/js/cytoscape-2.7.10',\n",
       "            'bootstrap' :   'http://maxcdn.bootstrapcdn.com/bootstrap/3.3.7/js/bootstrap.min',\n",
       "            'igv'       :   'http://igv.org/web/release/1.0.6/igv-1.0.6'\n",
       "           }\n",
       "      });\n",
       "\n",
       "require.undef('tabsDemo')\n",
       "\n",
       "define('tabsDemo', [\"jupyter-js-widgets\", \"jquery\", \"jquery-ui\", \"cytoscape\", \"igv\"], \n",
       "       function(widgets, $, ui, cytoscape, igv) {\n",
       "    \n",
       "    var TabsView = widgets.DOMWidgetView.extend({\n",
       "\n",
       "        initialize: function() {\n",
       "           this.options = {}\n",
       "           this.chromLocString = \"\";\n",
       "           console.log(\"constructing TabsView\");\n",
       "           this.frameHeight = \"800px\";\n",
       "           },\n",
       "\n",
       "        resizeHandler: function(){\n",
       "           console.log(\"TabsView resizeHandler\")            \n",
       "           },\n",
       "        \n",
       "        createMasterTabsDiv: function(){\n",
       "           var masterTabsDiv = $(\"<div id='masterTabsDiv' style='border:1px solid gray; height: 1200px; width: 97%'></div>\");\n",
       "           var list = $(\"<ul/>\");\n",
       "           list.append(\"<li><a href='#tab-2'>igv</a></li>\");\n",
       "           list.append(\"<li><a href='#tab-1'>cytoscape</a></li>\");\n",
       "           list.append(\"<li><a href='#tab-3'>three</a></li>\");\n",
       "           masterTabsDiv.append(list);\n",
       "\n",
       "           var tab2 = $(\"<div id='tab-1'></div>\");\n",
       "           tab2.append(\"<div id='cyDiv' style='border:1px solid blue; height:1000px;'></div>\");\n",
       "\n",
       "           var tab1 = $(\"<div id='tab-2'></div>\");\n",
       "           tab1.append(\"<div id='igvDiv' style='border:1px solid green; height:1000px;'></div>\");\n",
       "            \n",
       "            \n",
       "           var tab3 = $(\"<div id='tab-3'>contents 3</div>\");\n",
       "            \n",
       "           masterTabsDiv.append(tab1);\n",
       "           masterTabsDiv.append(tab2);\n",
       "           masterTabsDiv.append(tab3);\n",
       "            \n",
       "           return(masterTabsDiv);\n",
       "           },\n",
       "         \n",
       "        getCyOptions: function(){\n",
       "           var value = {container: $(\"#cyDiv\"), \n",
       "                                      elements: {nodes: [{data: {id:'a'}}],\n",
       "                                                 edges: [{data:{source:'a', target:'a'}}]},\n",
       "                                      style: cytoscape.stylesheet()\n",
       "                                        .selector('node').style({'background-color': '#d22',\n",
       "                                                                 'label': 'data(id)',\n",
       "                                                                 'text-valign': 'center',\n",
       "                                                                 'text-halign': 'center',\n",
       "                                                                 'border-width': 1})\n",
       "                                         .selector('edge').style({'line-color': 'black',\n",
       "                                                                  'target-arrow-shape': 'triangle',\n",
       "                                                                  'target-arrow-color': 'black',\n",
       "                                                                  'curve-style': 'bezier'})\n",
       "                       };\n",
       "            var emptyGraphValue = {container:$(\"#cyDiv\")};\n",
       "            //return(emptyGraphValue);\n",
       "            return(value);\n",
       "            }, // getCyOptions\n",
       "        \n",
       "        \n",
       "        getIgvOptions: function(){\n",
       "           var igvOptionsLocal = {locus: \"7:101,165,560-101,165,630\", // 5:88,621,548-88,999,827\",\n",
       "             reference: {id: \"geneSymbols_hg38\",\n",
       "                fastaURL: \"http://localhost/data/genomes/human_g1k_v37_decoy.fasta\",\n",
       "                 cytobandURL: \"http://localhost/data/annotations/b37_cytoband.txt\"\n",
       "                 },\n",
       "                tracks: [\n",
       "                  {name: 'Gencode v24',\n",
       "                   url: \"http://localhost://data/hg38/gencode.v24.annotation.sorted.gtf.gz\",\n",
       "                  indexURL: \"http://localhost://data/hg38/gencode.v24.annotation.sorted.gtf.gz.tbi\",\n",
       "                  format: 'gtf',\n",
       "                  visibilityWindow: 2000000,\n",
       "                  displayMode: 'EXPANDED'\n",
       "                  },\n",
       "                 {name: 'geneSymbols_hg38',\n",
       "                  url: 'http://localhost/data/hg38/geneSymbolSearch.bed',\n",
       "                  indexed: false,\n",
       "                  searchable: true,\n",
       "                  //visibilityWindow: 5000000,\n",
       "                  displayMode: 'COLLAPSED',\n",
       "                  color: \"#448844\"\n",
       "                  },\n",
       "                 {name: \"igap gwas\",\n",
       "                  url: 'http://localhost/data/hg38/variants/igap.bed',\n",
       "                  indexed: false,\n",
       "                  searchable: true,\n",
       "                  //visibilityWindow: 5000000,\n",
       "                  displayMode: 'EXPANDED',\n",
       "                  color: \"#884444\"\n",
       "                  }\n",
       "                  ]\n",
       "              }; // igvOptionsLocal\n",
       "             return(igvOptionsLocal);\n",
       "           }, // getIgvOptions\n",
       " \n",
       "        render: function() {\n",
       "            var multiWidget = this;\n",
       "            console.log(\"entering render\");\n",
       "            this.listenTo(this.model, 'change:msgFromKernel', this.dispatchRequest, this);\n",
       "            this.masterTabsDiv = this.createMasterTabsDiv();\n",
       "            this.$el.append(this.masterTabsDiv);\n",
       "            this.listenTo(this.model, 'change:frameHeight', this.frameDimensionsChanged, this);\n",
       "            setTimeout(function(){\n",
       "               window.browser = igv.createBrowser($(\"#igvDiv\"), multiWidget.getIgvOptions());\n",
       "               //window.browser.on('locuschange', function(referenceFrame, chromLocString){multiWidget.chromLocString=chromLocString});\n",
       "               window.browser.on('locuschange', function(referenceFrame, chromLocString){\n",
       "                   multiWidget.updateChromLocStringToKernel(multiWidget, chromLocString)});\n",
       "               setTimeout(function() {\n",
       "                   console.log(\"about to call tabs()\");\n",
       "                    $(\"#masterTabsDiv\").tabs({\n",
       "                       activate: function(){\n",
       "                         console.log(\"tabs activate\")\n",
       "                         cy.resize();\n",
       "                       }});\n",
       "                   $(\"[href='#tab-2']\").trigger(\"click\");\n",
       "                   }, 8000);\n",
       "               }, 3000);\n",
       "            setTimeout(function(){\n",
       "               var options = multiWidget.getCyOptions();\n",
       "               console.log(JSON.stringify(options));\n",
       "               window.cy = cytoscape(multiWidget.getCyOptions());\n",
       "               console.log(\"window.cy created\")\n",
       "               }, 1000);\n",
       "             }, // render\n",
       "\n",
       "        dispatchRequest: function(){\n",
       "           console.log(\"dispatchRequest\");\n",
       "           var msgRaw = this.model.get(\"msgFromKernel\");\n",
       "           var msg = JSON.parse(msgRaw);\n",
       "           console.log(msg);\n",
       "           console.log(\"========================\");\n",
       "           console.log(this);\n",
       "           switch(msg.cmd) {\n",
       "              case 'ping':\n",
       "                console.log(\"ping! from the kernel\");\n",
       "                break;\n",
       "              case 'deleteGraph':\n",
       "                cy.edges().remove();\n",
       "                cy.nodes().remove();\n",
       "                break;\n",
       "              case 'layout':\n",
       "                 var layoutName = msg.payload;\n",
       "                 cy.layout({\"name\": layoutName})\n",
       "                 break;\n",
       "              case 'loadNetworkStyleFile':\n",
       "                var styleFile = msg.payload;\n",
       "                this.loadNetworkStyleFile(styleFile);\n",
       "                break;\n",
       "              case 'tfGridLayout':\n",
       "                cy.nodes().filter(\"[type='TF']\").layout({name: \"grid\"})\n",
       "                break;\n",
       "              case 'selectedNodeGridLayout':\n",
       "                cy.nodes(\":selected\").layout({name: \"grid\"})\n",
       "                break;\n",
       "              case 'addGraph':\n",
       "                console.log(\"--- addGraph\")\n",
       "                var jsonGraph = msg.payload;\n",
       "                console.log(jsonGraph)\n",
       "                cy.json(jsonGraph);\n",
       "                //cy.layout({name: \"grid\"});\n",
       "                cy.fit(100);\n",
       "                //$(\"#masterTabsDiv\").tabs(\"option\", \"active\", 1)\n",
       "                $(\"[href='#tab-1']\").trigger(\"click\");\n",
       "                break;\n",
       "            default:\n",
       "               console.log(\"unrecognized msg.cmd: \" + msg.cmd);\n",
       "             } // switch\n",
       "           }, \n",
       "\n",
       "       updateChromLocStringToKernel: function(multiWidget, newString){\n",
       "           console.log(\"xxx \" + newString);\n",
       "           var jsonString = JSON.stringify({cmd: \"updateChromLocString\",\n",
       "                                            status: \"request\",\n",
       "                                            callback: \"\",\n",
       "                                            payload: newString});\n",
       "            multiWidget.model.set(\"msgFromBrowser\", jsonString);\n",
       "            multiWidget.touch()\n",
       "            },\n",
       "                                                \n",
       "        loadNetworkStyleFile: function(filename){\n",
       "           console.log(\"--- entering loadNetworkStyleFile\")\n",
       "           var cyObj = window.cy\n",
       "           var str = window.location.href;\n",
       "           var url = str.substr(0, str.lastIndexOf(\"/\")) + \"/\" + filename;\n",
       "           url = url.replace(\"/notebooks/\", \"/files/\");\n",
       "           console.log(\"--- loadNetworkStyleFile: \" +  url);\n",
       "            $.getScript(url)\n",
       "              .done(function(script, textStatus) {\n",
       "                 console.log(textStatus);\n",
       "                 cyObj.style(vizmap);\n",
       "                 })\n",
       "             .fail(function( jqxhr, settings, exception ) {\n",
       "                console.log(\"getScript error trying to read \" + filename);\n",
       "                console.log(\"exception: \");\n",
       "                console.log(exception);\n",
       "                });\n",
       "          },\n",
       "\n",
       "\n",
       "        frameDimensionsChanged: function(){\n",
       "           console.log(\"frameDimensionsChanged\");\n",
       "           var oldHeight = $(\"#mainDiv\").height()\n",
       "           var oldWidth = $(\"#mainDiv\").width()\n",
       "           var newHeight = this.model.get(\"frameHeight\");\n",
       "           var msg = \"<center>tabs demo, height: \" + oldHeight + \" -> \" + newHeight + \"</center>\";\n",
       "           $(\"#mainDiv\").html(msg);\n",
       "           $(\"#masterTabsDiv\").height(newHeight);\n",
       "           }, \n",
       "    });\n",
       "    return {\n",
       "        TabsView: TabsView\n",
       "    };\n",
       "});"
      ],
      "text/plain": [
       "<IPython.core.display.Javascript object>"
      ]
     },
     "metadata": {},
     "output_type": "display_data"
    }
   ],
   "source": [
    "%%javascript\n",
    "\"use strict\"\n",
    "require.config({\n",
    "    shim: {'bootstrap': {'deps' :['jquery']},\n",
    "           'igv':       {'deps' :['jquery', 'jquery-ui', 'bootstrap']}\n",
    "           },\n",
    "\n",
    "    paths: {'jquery'    :   'http://code.jquery.com/jquery-1.12.4.min',\n",
    "            'jquery-ui' :   'http://code.jquery.com/ui/1.12.1/jquery-ui.min',\n",
    "            'cytoscape' :   'http://cytoscape.github.io/cytoscape.js/api/cytoscape.js-latest/cytoscape',\n",
    "            //'cytoscape' :   'http://localhost:8099/js/cytoscape-2.7.10',\n",
    "            'bootstrap' :   'http://maxcdn.bootstrapcdn.com/bootstrap/3.3.7/js/bootstrap.min',\n",
    "            'igv'       :   'http://igv.org/web/release/1.0.6/igv-1.0.6'\n",
    "           }\n",
    "      });\n",
    "\n",
    "require.undef('tabsDemo')\n",
    "\n",
    "define('tabsDemo', [\"jupyter-js-widgets\", \"jquery\", \"jquery-ui\", \"cytoscape\", \"igv\"], \n",
    "       function(widgets, $, ui, cytoscape, igv) {\n",
    "    \n",
    "    var TabsView = widgets.DOMWidgetView.extend({\n",
    "\n",
    "        initialize: function() {\n",
    "           this.options = {}\n",
    "           this.chromLocString = \"\";\n",
    "           console.log(\"constructing TabsView\");\n",
    "           this.frameHeight = \"800px\";\n",
    "           },\n",
    "\n",
    "        resizeHandler: function(){\n",
    "           console.log(\"TabsView resizeHandler\")            \n",
    "           },\n",
    "        \n",
    "        createMasterTabsDiv: function(){\n",
    "           var masterTabsDiv = $(\"<div id='masterTabsDiv' style='border:1px solid gray; height: 1200px; width: 97%'></div>\");\n",
    "           var list = $(\"<ul/>\");\n",
    "           list.append(\"<li><a href='#tab-2'>igv</a></li>\");\n",
    "           list.append(\"<li><a href='#tab-1'>cytoscape</a></li>\");\n",
    "           list.append(\"<li><a href='#tab-3'>three</a></li>\");\n",
    "           masterTabsDiv.append(list);\n",
    "\n",
    "           var tab2 = $(\"<div id='tab-1'></div>\");\n",
    "           tab2.append(\"<div id='cyDiv' style='border:1px solid blue; height:1000px;'></div>\");\n",
    "\n",
    "           var tab1 = $(\"<div id='tab-2'></div>\");\n",
    "           tab1.append(\"<div id='igvDiv' style='border:1px solid green; height:1000px;'></div>\");\n",
    "            \n",
    "            \n",
    "           var tab3 = $(\"<div id='tab-3'>contents 3</div>\");\n",
    "            \n",
    "           masterTabsDiv.append(tab1);\n",
    "           masterTabsDiv.append(tab2);\n",
    "           masterTabsDiv.append(tab3);\n",
    "            \n",
    "           return(masterTabsDiv);\n",
    "           },\n",
    "         \n",
    "        getCyOptions: function(){\n",
    "           var value = {container: $(\"#cyDiv\"), \n",
    "                                      elements: {nodes: [{data: {id:'a'}}],\n",
    "                                                 edges: [{data:{source:'a', target:'a'}}]},\n",
    "                                      style: cytoscape.stylesheet()\n",
    "                                        .selector('node').style({'background-color': '#d22',\n",
    "                                                                 'label': 'data(id)',\n",
    "                                                                 'text-valign': 'center',\n",
    "                                                                 'text-halign': 'center',\n",
    "                                                                 'border-width': 1})\n",
    "                                         .selector('edge').style({'line-color': 'black',\n",
    "                                                                  'target-arrow-shape': 'triangle',\n",
    "                                                                  'target-arrow-color': 'black',\n",
    "                                                                  'curve-style': 'bezier'})\n",
    "                       };\n",
    "            var emptyGraphValue = {container:$(\"#cyDiv\")};\n",
    "            //return(emptyGraphValue);\n",
    "            return(value);\n",
    "            }, // getCyOptions\n",
    "        \n",
    "        \n",
    "        getIgvOptions: function(){\n",
    "           var igvOptionsLocal = {locus: \"7:101,165,560-101,165,630\", // 5:88,621,548-88,999,827\",\n",
    "             reference: {id: \"geneSymbols_hg38\",\n",
    "                fastaURL: \"http://localhost/data/genomes/human_g1k_v37_decoy.fasta\",\n",
    "                 cytobandURL: \"http://localhost/data/annotations/b37_cytoband.txt\"\n",
    "                 },\n",
    "                tracks: [\n",
    "                  {name: 'Gencode v24',\n",
    "                   url: \"http://localhost://data/hg38/gencode.v24.annotation.sorted.gtf.gz\",\n",
    "                  indexURL: \"http://localhost://data/hg38/gencode.v24.annotation.sorted.gtf.gz.tbi\",\n",
    "                  format: 'gtf',\n",
    "                  visibilityWindow: 2000000,\n",
    "                  displayMode: 'EXPANDED'\n",
    "                  },\n",
    "                 {name: 'geneSymbols_hg38',\n",
    "                  url: 'http://localhost/data/hg38/geneSymbolSearch.bed',\n",
    "                  indexed: false,\n",
    "                  searchable: true,\n",
    "                  //visibilityWindow: 5000000,\n",
    "                  displayMode: 'COLLAPSED',\n",
    "                  color: \"#448844\"\n",
    "                  },\n",
    "                 {name: \"igap gwas\",\n",
    "                  url: 'http://localhost/data/hg38/variants/igap.bed',\n",
    "                  indexed: false,\n",
    "                  searchable: true,\n",
    "                  //visibilityWindow: 5000000,\n",
    "                  displayMode: 'EXPANDED',\n",
    "                  color: \"#884444\"\n",
    "                  }\n",
    "                  ]\n",
    "              }; // igvOptionsLocal\n",
    "             return(igvOptionsLocal);\n",
    "           }, // getIgvOptions\n",
    " \n",
    "        render: function() {\n",
    "            var multiWidget = this;\n",
    "            console.log(\"entering render\");\n",
    "            this.listenTo(this.model, 'change:msgFromKernel', this.dispatchRequest, this);\n",
    "            this.masterTabsDiv = this.createMasterTabsDiv();\n",
    "            this.$el.append(this.masterTabsDiv);\n",
    "            this.listenTo(this.model, 'change:frameHeight', this.frameDimensionsChanged, this);\n",
    "            setTimeout(function(){\n",
    "               window.browser = igv.createBrowser($(\"#igvDiv\"), multiWidget.getIgvOptions());\n",
    "               //window.browser.on('locuschange', function(referenceFrame, chromLocString){multiWidget.chromLocString=chromLocString});\n",
    "               window.browser.on('locuschange', function(referenceFrame, chromLocString){\n",
    "                   multiWidget.updateChromLocStringToKernel(multiWidget, chromLocString)});\n",
    "               setTimeout(function() {\n",
    "                   console.log(\"about to call tabs()\");\n",
    "                    $(\"#masterTabsDiv\").tabs({\n",
    "                       activate: function(){\n",
    "                         console.log(\"tabs activate\")\n",
    "                         cy.resize();\n",
    "                       }});\n",
    "                   $(\"[href='#tab-2']\").trigger(\"click\");\n",
    "                   }, 8000);\n",
    "               }, 3000);\n",
    "            setTimeout(function(){\n",
    "               var options = multiWidget.getCyOptions();\n",
    "               console.log(JSON.stringify(options));\n",
    "               window.cy = cytoscape(multiWidget.getCyOptions());\n",
    "               console.log(\"window.cy created\")\n",
    "               }, 1000);\n",
    "             }, // render\n",
    "\n",
    "        dispatchRequest: function(){\n",
    "           console.log(\"dispatchRequest\");\n",
    "           var msgRaw = this.model.get(\"msgFromKernel\");\n",
    "           var msg = JSON.parse(msgRaw);\n",
    "           console.log(msg);\n",
    "           console.log(\"========================\");\n",
    "           console.log(this);\n",
    "           switch(msg.cmd) {\n",
    "              case 'ping':\n",
    "                console.log(\"ping! from the kernel\");\n",
    "                break;\n",
    "              case 'deleteGraph':\n",
    "                cy.edges().remove();\n",
    "                cy.nodes().remove();\n",
    "                break;\n",
    "              case 'layout':\n",
    "                 var layoutName = msg.payload;\n",
    "                 cy.layout({\"name\": layoutName})\n",
    "                 break;\n",
    "              case 'loadNetworkStyleFile':\n",
    "                var styleFile = msg.payload;\n",
    "                this.loadNetworkStyleFile(styleFile);\n",
    "                break;\n",
    "              case 'tfGridLayout':\n",
    "                cy.nodes().filter(\"[type='TF']\").layout({name: \"grid\"})\n",
    "                break;\n",
    "              case 'selectedNodeGridLayout':\n",
    "                cy.nodes(\":selected\").layout({name: \"grid\"})\n",
    "                break;\n",
    "              case 'addGraph':\n",
    "                console.log(\"--- addGraph\")\n",
    "                var jsonGraph = msg.payload;\n",
    "                console.log(jsonGraph)\n",
    "                cy.json(jsonGraph);\n",
    "                //cy.layout({name: \"grid\"});\n",
    "                cy.fit(100);\n",
    "                //$(\"#masterTabsDiv\").tabs(\"option\", \"active\", 1)\n",
    "                $(\"[href='#tab-1']\").trigger(\"click\");\n",
    "                break;\n",
    "            default:\n",
    "               console.log(\"unrecognized msg.cmd: \" + msg.cmd);\n",
    "             } // switch\n",
    "           }, \n",
    "\n",
    "       updateChromLocStringToKernel: function(multiWidget, newString){\n",
    "           console.log(\"xxx \" + newString);\n",
    "           var jsonString = JSON.stringify({cmd: \"updateChromLocString\",\n",
    "                                            status: \"request\",\n",
    "                                            callback: \"\",\n",
    "                                            payload: newString});\n",
    "            multiWidget.model.set(\"msgFromBrowser\", jsonString);\n",
    "            multiWidget.touch()\n",
    "            },\n",
    "                                                \n",
    "        loadNetworkStyleFile: function(filename){\n",
    "           console.log(\"--- entering loadNetworkStyleFile\")\n",
    "           var cyObj = window.cy\n",
    "           var str = window.location.href;\n",
    "           var url = str.substr(0, str.lastIndexOf(\"/\")) + \"/\" + filename;\n",
    "           url = url.replace(\"/notebooks/\", \"/files/\");\n",
    "           console.log(\"--- loadNetworkStyleFile: \" +  url);\n",
    "            $.getScript(url)\n",
    "              .done(function(script, textStatus) {\n",
    "                 console.log(textStatus);\n",
    "                 cyObj.style(vizmap);\n",
    "                 })\n",
    "             .fail(function( jqxhr, settings, exception ) {\n",
    "                console.log(\"getScript error trying to read \" + filename);\n",
    "                console.log(\"exception: \");\n",
    "                console.log(exception);\n",
    "                });\n",
    "          },\n",
    "\n",
    "\n",
    "        frameDimensionsChanged: function(){\n",
    "           console.log(\"frameDimensionsChanged\");\n",
    "           var oldHeight = $(\"#mainDiv\").height()\n",
    "           var oldWidth = $(\"#mainDiv\").width()\n",
    "           var newHeight = this.model.get(\"frameHeight\");\n",
    "           var msg = \"<center>tabs demo, height: \" + oldHeight + \" -> \" + newHeight + \"</center>\";\n",
    "           $(\"#mainDiv\").html(msg);\n",
    "           $(\"#masterTabsDiv\").height(newHeight);\n",
    "           }, \n",
    "    });\n",
    "    return {\n",
    "        TabsView: TabsView\n",
    "    };\n",
    "});"
   ]
  },
  {
   "cell_type": "code",
   "execution_count": 61,
   "metadata": {},
   "outputs": [
    {
     "data": {
      "application/vnd.jupyter.widget-view+json": {
       "model_id": "ea294c1b39aa40c4a558e911600746ec"
      }
     },
     "metadata": {},
     "output_type": "display_data"
    }
   ],
   "source": [
    "app = TabsWidget()\n",
    "display(app)"
   ]
  },
  {
   "cell_type": "code",
   "execution_count": 62,
   "metadata": {
    "collapsed": true
   },
   "outputs": [],
   "source": [
    "app.deleteGraph()"
   ]
  },
  {
   "cell_type": "code",
   "execution_count": 63,
   "metadata": {},
   "outputs": [
    {
     "name": "stdout",
     "output_type": "stream",
     "text": [
      "7:101,165,560-101,165,630\n"
     ]
    }
   ],
   "source": [
    "x2 = app.getChromLocString(); print(x2)"
   ]
  },
  {
   "cell_type": "code",
   "execution_count": 64,
   "metadata": {
    "collapsed": true
   },
   "outputs": [],
   "source": [
    "import zmq"
   ]
  },
  {
   "cell_type": "code",
   "execution_count": 65,
   "metadata": {},
   "outputs": [
    {
     "data": {
      "text/plain": [
       "<zmq.sugar.socket.Socket at 0x104790e88>"
      ]
     },
     "execution_count": 65,
     "metadata": {},
     "output_type": "execute_result"
    }
   ],
   "source": [
    "socketContext = zmq.Context()\n",
    "socket = socketContext.socket(zmq.REQ)\n",
    "socket.connect(\"tcp://localhost:%s\" % '5557')\n",
    "socket"
   ]
  },
  {
   "cell_type": "code",
   "execution_count": 66,
   "metadata": {},
   "outputs": [
    {
     "name": "stdout",
     "output_type": "stream",
     "text": [
      "{\"payload\": \"\", \"callback\": \"\", \"status\": \"request\", \"cmd\": \"ping\"}\n",
      "{'payload': ['pong'], 'callback': [''], 'status': ['result'], 'cmd': {}}\n"
     ]
    }
   ],
   "source": [
    "msg = {\"cmd\": \"ping\", \"status\": \"request\", \"callback\": \"\", \"payload\": \"\"}\n",
    "msg_json = json.dumps(msg)\n",
    "print(msg_json)\n",
    "socket.send_string(json.dumps(msg))\n",
    "print(json.loads(socket.recv_string()))"
   ]
  },
  {
   "cell_type": "markdown",
   "metadata": {},
   "source": [
    "msg = json.dumps({\"cmd\": \"getTestNetwork\", \"status\": \"request\", \"callback\": \"\", \"payload\": \"VGF\"})\n",
    "socket.send_string(msg)\n",
    "gjson = json.loads(socket.recv_string())[\"payload\"]\n",
    "gjson"
   ]
  },
  {
   "cell_type": "markdown",
   "metadata": {},
   "source": [
    "app.deleteGraph()\n",
    "app.addGraph(gjson)"
   ]
  },
  {
   "cell_type": "code",
   "execution_count": 80,
   "metadata": {},
   "outputs": [
    {
     "name": "stdout",
     "output_type": "stream",
     "text": [
      "{\"payload\": {\"footprintRegion\": \"7:101,165,574-101,165,613\", \"targetGene\": \"VGF\"}, \"callback\": \"\", \"status\": \"request\", \"cmd\": \"createGeneModel\"}\n"
     ]
    }
   ],
   "source": [
    "region = app.getChromLocString()\n",
    "msg = json.dumps({\"cmd\": \"createGeneModel\", \"status\": \"request\", \"callback\": \"\", \"payload\": {\"targetGene\": \"VGF\", \"footprintRegion\": region}})\n",
    "print(msg)\n",
    "socket.send_string(msg)\n",
    "gjson = json.loads(socket.recv_string())[\"payload\"][0]  # not sure why it comes in as a 1-element array"
   ]
  },
  {
   "cell_type": "code",
   "execution_count": 81,
   "metadata": {},
   "outputs": [
    {
     "name": "stdout",
     "output_type": "stream",
     "text": [
      "{\"elements\": [ {\"data\": {\"id\": \"VGF\", \"type\": \"targetGene\", \"label\": \"VGF\", \"distance\": 0, \"gene.cor\": 0, \"beta\": 0, \"purity\": 0, \"xPos\": 0, \"yPos\": -500}, \"position\": {\"x\": 0, \"y\": -500}}, {\"data\": {\"id\": \"MAZ\", \"type\": \"TF\", \"label\": \"MAZ\", \"distance\": 0, \"gene.cor\": 0.367650578609676, \"beta\": 0.367650578609676, \"purity\": 367.610505891181, \"xPos\": 0, \"yPos\": 400}, \"position\": {\"x\": 0, \"y\": 400}}, {\"data\": {\"id\": \"NRF1\", \"type\": \"TF\", \"label\": \"NRF1\", \"distance\": 0, \"gene.cor\": -0.295170175967506, \"beta\": -0.295170175967506, \"purity\": 401.060992091156, \"xPos\": 0, \"yPos\": 400}, \"position\": {\"x\": 0, \"y\": 400}}, {\"data\": {\"id\": \"VGF.fp.upstream.00009\", \"type\": \"footprint\", \"label\": 9, \"distance\": 9, \"gene.cor\": 0, \"beta\": 0, \"purity\": 0, \"xPos\": 90, \"yPos\": 0}, \"position\": {\"x\": 90, \"y\": 0}}, {\"data\": {\"id\": \"VGF.fp.downstream.00018\", \"type\": \"footprint\", \"label\": -18, \"distance\": -18, \"gene.cor\": 0, \"beta\": 0, \"purity\": 0, \"xPos\": -180, \"yPos\": 0}, \"position\": {\"x\": -180, \"y\": 0}}, {\"data\": {\"id\": \"MAZ->VGF.fp.upstream.00009\", \"source\": \"MAZ\", \"target\": \"VGF.fp.upstream.00009\", \"edgeType\": \"bindsTo\", \"beta\": 0, \"purity\": 0}}, {\"data\": {\"id\": \"NRF1->VGF.fp.downstream.00018\", \"source\": \"NRF1\", \"target\": \"VGF.fp.downstream.00018\", \"edgeType\": \"bindsTo\", \"beta\": 0, \"purity\": 0}}, {\"data\": {\"id\": \"VGF.fp.upstream.00009->VGF\", \"source\": \"VGF.fp.upstream.00009\", \"target\": \"VGF\", \"edgeType\": \"regulatorySiteFor\", \"beta\": 0, \"purity\": 0}}, {\"data\": {\"id\": \"VGF.fp.downstream.00018->VGF\", \"source\": \"VGF.fp.downstream.00018\", \"target\": \"VGF\", \"edgeType\": \"regulatorySiteFor\", \"beta\": 0, \"purity\": 0}}]}\n",
      "{'elements': [{'position': {'x': 0, 'y': -500}, 'data': {'purity': 0, 'yPos': -500, 'id': 'VGF', 'distance': 0, 'xPos': 0, 'type': 'targetGene', 'label': 'VGF', 'gene.cor': 0, 'beta': 0}}, {'position': {'x': 0, 'y': 400}, 'data': {'purity': 367.610505891181, 'yPos': 400, 'id': 'MAZ', 'distance': 0, 'xPos': 0, 'type': 'TF', 'label': 'MAZ', 'gene.cor': 0.367650578609676, 'beta': 0.367650578609676}}, {'position': {'x': 0, 'y': 400}, 'data': {'purity': 401.060992091156, 'yPos': 400, 'id': 'NRF1', 'distance': 0, 'xPos': 0, 'type': 'TF', 'label': 'NRF1', 'gene.cor': -0.295170175967506, 'beta': -0.295170175967506}}, {'position': {'x': 90, 'y': 0}, 'data': {'purity': 0, 'yPos': 0, 'id': 'VGF.fp.upstream.00009', 'distance': 9, 'xPos': 90, 'type': 'footprint', 'label': 9, 'gene.cor': 0, 'beta': 0}}, {'position': {'x': -180, 'y': 0}, 'data': {'purity': 0, 'yPos': 0, 'id': 'VGF.fp.downstream.00018', 'distance': -18, 'xPos': -180, 'type': 'footprint', 'label': -18, 'gene.cor': 0, 'beta': 0}}, {'data': {'purity': 0, 'edgeType': 'bindsTo', 'target': 'VGF.fp.upstream.00009', 'id': 'MAZ->VGF.fp.upstream.00009', 'source': 'MAZ', 'beta': 0}}, {'data': {'purity': 0, 'edgeType': 'bindsTo', 'target': 'VGF.fp.downstream.00018', 'id': 'NRF1->VGF.fp.downstream.00018', 'source': 'NRF1', 'beta': 0}}, {'data': {'purity': 0, 'edgeType': 'regulatorySiteFor', 'target': 'VGF', 'id': 'VGF.fp.upstream.00009->VGF', 'source': 'VGF.fp.upstream.00009', 'beta': 0}}, {'data': {'purity': 0, 'edgeType': 'regulatorySiteFor', 'target': 'VGF', 'id': 'VGF.fp.downstream.00018->VGF', 'source': 'VGF.fp.downstream.00018', 'beta': 0}}]}\n"
     ]
    }
   ],
   "source": [
    "print(gjson)\n",
    "print(json.loads(gjson))\n",
    "graphData = json.loads(gjson)\n",
    "#graphData"
   ]
  },
  {
   "cell_type": "code",
   "execution_count": 82,
   "metadata": {
    "collapsed": true
   },
   "outputs": [],
   "source": [
    "app.deleteGraph()\n",
    "app.addGraph(graphData)"
   ]
  },
  {
   "cell_type": "code",
   "execution_count": 78,
   "metadata": {},
   "outputs": [],
   "source": [
    "app.loadNetworkStyleFile(\"style-purityControlsNodeSize.js\")"
   ]
  },
  {
   "cell_type": "code",
   "execution_count": 79,
   "metadata": {},
   "outputs": [],
   "source": [
    "app.selectedNodeGridLayout(\"foo\")"
   ]
  },
  {
   "cell_type": "code",
   "execution_count": 17,
   "metadata": {},
   "outputs": [
    {
     "data": {
      "text/plain": [
       "['grid', 'null', 'random', 'cose', 'circle', 'concentric', 'breadthfirst']"
      ]
     },
     "execution_count": 17,
     "metadata": {},
     "output_type": "execute_result"
    }
   ],
   "source": [
    "app.availableLayouts()"
   ]
  },
  {
   "cell_type": "code",
   "execution_count": 47,
   "metadata": {
    "collapsed": true
   },
   "outputs": [],
   "source": [
    "app.layout(\"grid\")\n",
    "app.layout(\"cose\")"
   ]
  },
  {
   "cell_type": "code",
   "execution_count": null,
   "metadata": {
    "collapsed": true
   },
   "outputs": [],
   "source": []
  }
 ],
 "metadata": {
  "anaconda-cloud": {},
  "kernelspec": {
   "display_name": "Python [default]",
   "language": "python",
   "name": "python3"
  },
  "language_info": {
   "codemirror_mode": {
    "name": "ipython",
    "version": 3
   },
   "file_extension": ".py",
   "mimetype": "text/x-python",
   "name": "python",
   "nbconvert_exporter": "python",
   "pygments_lexer": "ipython3",
   "version": "3.5.2"
  }
 },
 "nbformat": 4,
 "nbformat_minor": 1
}
