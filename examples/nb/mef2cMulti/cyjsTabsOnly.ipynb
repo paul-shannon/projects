{
 "cells": [
  {
   "cell_type": "code",
   "execution_count": 1,
   "metadata": {
    "collapsed": true
   },
   "outputs": [],
   "source": [
    "import requests\n",
    "import ipywidgets as widgets\n",
    "import time\n",
    "from IPython.display import display, HTML\n",
    "from traitlets import Int, Unicode, observe"
   ]
  },
  {
   "cell_type": "code",
   "execution_count": 2,
   "metadata": {
    "collapsed": true
   },
   "outputs": [],
   "source": [
    "class TabsWidget(widgets.DOMWidget):\n",
    "    \n",
    "    _view_name = Unicode('TabsView').tag(sync=True)\n",
    "    _view_module = Unicode('tabsDemo').tag(sync=True)\n",
    "    frameHeight = Int(300).tag(sync=True)\n",
    "\n",
    "    def setHeight(self, height):\n",
    "       print(\"setHeight(%d) \"% height)\n",
    "       self.frameHeight = height"
   ]
  },
  {
   "cell_type": "code",
   "execution_count": 3,
   "metadata": {},
   "outputs": [
    {
     "data": {
      "text/html": [
       "\n",
       "<style>\n",
       "    div#notebook-container    { width: 97%; }\n",
       "    div#menubar-container     { width: 65%; }\n",
       "    div#maintoolbar-container { width: 99%; }\n",
       "</style>\n"
      ],
      "text/plain": [
       "<IPython.core.display.HTML object>"
      ]
     },
     "metadata": {},
     "output_type": "display_data"
    }
   ],
   "source": [
    "display(HTML(data=\"\"\"\n",
    "<style>\n",
    "    div#notebook-container    { width: 97%; }\n",
    "    div#menubar-container     { width: 65%; }\n",
    "    div#maintoolbar-container { width: 99%; }\n",
    "</style>\n",
    "\"\"\"))"
   ]
  },
  {
   "cell_type": "code",
   "execution_count": 4,
   "metadata": {},
   "outputs": [
    {
     "data": {
      "application/javascript": [
       "\"use strict\"\n",
       "require.config({\n",
       "    paths: {'jquery'    :   'http://code.jquery.com/jquery-1.12.4.min',\n",
       "            'jquery-ui' :   'http://code.jquery.com/ui/1.12.1/jquery-ui.min',\n",
       "            'cytoscape' :   'http://cytoscape.github.io/cytoscape.js/api/cytoscape.js-latest/cytoscape.min'\n",
       "           }\n",
       "      });\n",
       "\n",
       "require.undef('tabsDemo')\n",
       "\n",
       "define('tabsDemo', [\"jupyter-js-widgets\", \"jquery\", \"jquery-ui\", \"cytoscape\"], \n",
       "       function(widgets, $, ui, cytoscape) {\n",
       "    \n",
       "    var TabsView = widgets.DOMWidgetView.extend({\n",
       "\n",
       "        initialize: function() {\n",
       "           this.options = {}\n",
       "           console.log(\"constructing TabsView\");\n",
       "           this.frameHeight = \"800px\";\n",
       "           },\n",
       "\n",
       "        resizeHandler: function(){\n",
       "           console.log(\"TabsView resizeHandler\")            \n",
       "           },\n",
       "        \n",
       "        createMasterTabsDiv: function(){\n",
       "           var masterTabsDiv = $(\"<div id='masterTabsDiv' style='border:1px solid gray; height: 400px; width: 97%'></div>\");\n",
       "            \n",
       "           var list = $(\"<ul/>\");\n",
       "           list.append(\"<li><a href='#tab-2'>cytoscape</a></li>\");\n",
       "           list.append(\"<li><a href='#tab-3'>three</a></li>\");\n",
       "           masterTabsDiv.append(list);\n",
       "            \n",
       "           var tab2 = $(\"<div id='tab-2'></div>\");\n",
       "           tab2.append(\"<div id='cyDiv' style='border:1px solid blue; height:500px;'></div>\");\n",
       "            \n",
       "           var tab3 = $(\"<div id='tab-3'>contents 3</div>\");\n",
       "            \n",
       "           masterTabsDiv.append(tab2);\n",
       "           masterTabsDiv.append(tab3);\n",
       "            \n",
       "           return(masterTabsDiv);\n",
       "           },\n",
       "         \n",
       "        getCyOptions: function(){\n",
       "           var value = {container: $(\"#cyDiv\"), \n",
       "                                      elements: {nodes: [{data: {id:'a'}}],\n",
       "                                                 edges: [{data:{source:'a', target:'a'}}]},\n",
       "                                      style: cytoscape.stylesheet()\n",
       "                                        .selector('node').style({'background-color': '#d22',\n",
       "                                                                 'label': 'data(id)',\n",
       "                                                                 'text-valign': 'center',\n",
       "                                                                 'text-halign': 'center',\n",
       "                                                                 'border-width': 1})\n",
       "                                         .selector('edge').style({'line-color': 'black',\n",
       "                                                                  'target-arrow-shape': 'triangle',\n",
       "                                                                  'target-arrow-color': 'black',\n",
       "                                                                  'curve-style': 'bezier'})\n",
       "                       };\n",
       "            return(value);\n",
       "            }, \n",
       "        \n",
       "        render: function() { \n",
       "            console.log(\"entering render\");\n",
       "            this.masterTabsDiv = this.createMasterTabsDiv();\n",
       "            this.$el.append(this.masterTabsDiv);\n",
       "            this.listenTo(this.model, 'change:frameHeight', this.frameDimensionsChanged, this);\n",
       "            var self = this;  // the current subclassed widget\n",
       "            setTimeout(function(){\n",
       "               console.log(\"about to call tabs()\");\n",
       "               $(\"#masterTabsDiv\").tabs();\n",
       "               console.log(\"--- setTimeout's notion of this:\");\n",
       "               console.log(this);\n",
       "               console.log(\"--- setTimeout's notion of self:\");\n",
       "               console.log(self);\n",
       "                /*****************\n",
       "               var cyOptions = {container: $(\"#cyDiv\"), \n",
       "                                      elements: {nodes: [{data: {id:'a'}}],\n",
       "                                                 edges: [{data:{source:'a', target:'a'}}]},\n",
       "                                      style: cytoscape.stylesheet()\n",
       "                                        .selector('node').style({'background-color': '#d22',\n",
       "                                                                 'label': 'data(id)',\n",
       "                                                                 'text-valign': 'center',\n",
       "                                                                 'text-halign': 'center',\n",
       "                                                                 'border-width': 1})\n",
       "                                         .selector('edge').style({'line-color': 'black',\n",
       "                                                                  'target-arrow-shape': 'triangle',\n",
       "                                                                  'target-arrow-color': 'black',\n",
       "                                                                  'curve-style': 'bezier'})\n",
       "                              };\n",
       "               //window.cy = cytoscape(cyOptions);\n",
       "               *******************/\n",
       "               window.cy = cytoscape(self.getCyOptions());\n",
       "               console.log(\"created window.cy\");\n",
       "               console.log(window.cy);\n",
       "               console.log(cy);\n",
       "               }, 0);\n",
       "            },\n",
       "\n",
       "           \n",
       "        frameDimensionsChanged: function(){\n",
       "           console.log(\"frameDimensionsChanged\");\n",
       "           var oldHeight = $(\"#mainDiv\").height()\n",
       "           var oldWidth = $(\"#mainDiv\").width()\n",
       "           var newHeight = this.model.get(\"frameHeight\");\n",
       "           var msg = \"<center>tabs demo, height: \" + oldHeight + \" -> \" + newHeight + \"</center>\";\n",
       "           $(\"#mainDiv\").html(msg);\n",
       "           $(\"#masterTabsDiv\").height(newHeight);\n",
       "        }, \n",
       "        \n",
       "\n",
       "    });\n",
       "    return {\n",
       "        TabsView: TabsView\n",
       "    };\n",
       "});"
      ],
      "text/plain": [
       "<IPython.core.display.Javascript object>"
      ]
     },
     "metadata": {},
     "output_type": "display_data"
    }
   ],
   "source": [
    "%%javascript\n",
    "\"use strict\"\n",
    "require.config({\n",
    "    paths: {'jquery'    :   'http://code.jquery.com/jquery-1.12.4.min',\n",
    "            'jquery-ui' :   'http://code.jquery.com/ui/1.12.1/jquery-ui.min',\n",
    "            'cytoscape' :   'http://cytoscape.github.io/cytoscape.js/api/cytoscape.js-latest/cytoscape.min'\n",
    "           }\n",
    "      });\n",
    "\n",
    "require.undef('tabsDemo')\n",
    "\n",
    "define('tabsDemo', [\"jupyter-js-widgets\", \"jquery\", \"jquery-ui\", \"cytoscape\"], \n",
    "       function(widgets, $, ui, cytoscape) {\n",
    "    \n",
    "    var TabsView = widgets.DOMWidgetView.extend({\n",
    "\n",
    "        initialize: function() {\n",
    "           this.options = {}\n",
    "           console.log(\"constructing TabsView\");\n",
    "           this.frameHeight = \"800px\";\n",
    "           },\n",
    "\n",
    "        resizeHandler: function(){\n",
    "           console.log(\"TabsView resizeHandler\")            \n",
    "           },\n",
    "        \n",
    "        createMasterTabsDiv: function(){\n",
    "           var masterTabsDiv = $(\"<div id='masterTabsDiv' style='border:1px solid gray; height: 400px; width: 97%'></div>\");\n",
    "            \n",
    "           var list = $(\"<ul/>\");\n",
    "           list.append(\"<li><a href='#tab-2'>cytoscape</a></li>\");\n",
    "           list.append(\"<li><a href='#tab-3'>three</a></li>\");\n",
    "           masterTabsDiv.append(list);\n",
    "            \n",
    "           var tab2 = $(\"<div id='tab-2'></div>\");\n",
    "           tab2.append(\"<div id='cyDiv' style='border:1px solid blue; height:500px;'></div>\");\n",
    "            \n",
    "           var tab3 = $(\"<div id='tab-3'>contents 3</div>\");\n",
    "            \n",
    "           masterTabsDiv.append(tab2);\n",
    "           masterTabsDiv.append(tab3);\n",
    "            \n",
    "           return(masterTabsDiv);\n",
    "           },\n",
    "         \n",
    "        getCyOptions: function(){\n",
    "           var value = {container: $(\"#cyDiv\"), \n",
    "                                      elements: {nodes: [{data: {id:'a'}}],\n",
    "                                                 edges: [{data:{source:'a', target:'a'}}]},\n",
    "                                      style: cytoscape.stylesheet()\n",
    "                                        .selector('node').style({'background-color': '#d22',\n",
    "                                                                 'label': 'data(id)',\n",
    "                                                                 'text-valign': 'center',\n",
    "                                                                 'text-halign': 'center',\n",
    "                                                                 'border-width': 1})\n",
    "                                         .selector('edge').style({'line-color': 'black',\n",
    "                                                                  'target-arrow-shape': 'triangle',\n",
    "                                                                  'target-arrow-color': 'black',\n",
    "                                                                  'curve-style': 'bezier'})\n",
    "                       };\n",
    "            return(value);\n",
    "            }, \n",
    "        \n",
    "        render: function() { \n",
    "            console.log(\"entering render\");\n",
    "            this.masterTabsDiv = this.createMasterTabsDiv();\n",
    "            this.$el.append(this.masterTabsDiv);\n",
    "            this.listenTo(this.model, 'change:frameHeight', this.frameDimensionsChanged, this);\n",
    "            var self = this;  // the current subclassed widget\n",
    "            setTimeout(function(){\n",
    "               $(\"#masterTabsDiv\").tabs();\n",
    "               window.cy = cytoscape(self.getCyOptions());\n",
    "               }, 0);\n",
    "            },\n",
    "\n",
    "           \n",
    "        frameDimensionsChanged: function(){\n",
    "           console.log(\"frameDimensionsChanged\");\n",
    "           var oldHeight = $(\"#mainDiv\").height()\n",
    "           var oldWidth = $(\"#mainDiv\").width()\n",
    "           var newHeight = this.model.get(\"frameHeight\");\n",
    "           var msg = \"<center>tabs demo, height: \" + oldHeight + \" -> \" + newHeight + \"</center>\";\n",
    "           $(\"#mainDiv\").html(msg);\n",
    "           $(\"#masterTabsDiv\").height(newHeight);\n",
    "        }, \n",
    "        \n",
    "\n",
    "    });\n",
    "    return {\n",
    "        TabsView: TabsView\n",
    "    };\n",
    "});"
   ]
  },
  {
   "cell_type": "code",
   "execution_count": 5,
   "metadata": {},
   "outputs": [
    {
     "data": {
      "application/vnd.jupyter.widget-view+json": {
       "model_id": "67118e3a68d44b2298a32e70bcb85281"
      }
     },
     "metadata": {},
     "output_type": "display_data"
    }
   ],
   "source": [
    "app = TabsWidget()\n",
    "display(app)"
   ]
  },
  {
   "cell_type": "raw",
   "metadata": {},
   "source": []
  },
  {
   "cell_type": "code",
   "execution_count": null,
   "metadata": {
    "collapsed": true
   },
   "outputs": [],
   "source": []
  },
  {
   "cell_type": "code",
   "execution_count": null,
   "metadata": {
    "collapsed": true
   },
   "outputs": [],
   "source": []
  }
 ],
 "metadata": {
  "anaconda-cloud": {},
  "kernelspec": {
   "display_name": "Python [default]",
   "language": "python",
   "name": "python3"
  },
  "language_info": {
   "codemirror_mode": {
    "name": "ipython",
    "version": 3
   },
   "file_extension": ".py",
   "mimetype": "text/x-python",
   "name": "python",
   "nbconvert_exporter": "python",
   "pygments_lexer": "ipython3",
   "version": "3.5.2"
  }
 },
 "nbformat": 4,
 "nbformat_minor": 1
}
