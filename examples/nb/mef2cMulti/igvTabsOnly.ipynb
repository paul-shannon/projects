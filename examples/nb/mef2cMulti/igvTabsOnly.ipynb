{
 "cells": [
  {
   "cell_type": "code",
   "execution_count": 76,
   "metadata": {
    "collapsed": true
   },
   "outputs": [],
   "source": [
    "import requests\n",
    "import ipywidgets as widgets\n",
    "import time\n",
    "from IPython.display import display, HTML\n",
    "from traitlets import Int, Unicode, observe"
   ]
  },
  {
   "cell_type": "code",
   "execution_count": 77,
   "metadata": {
    "collapsed": true
   },
   "outputs": [],
   "source": [
    "class TabsWidget(widgets.DOMWidget):\n",
    "    \n",
    "    _view_name = Unicode('TabsView').tag(sync=True)\n",
    "    _view_module = Unicode('tabsDemo').tag(sync=True)\n",
    "    frameHeight = Int(300).tag(sync=True)\n",
    "\n",
    "    def setHeight(self, height):\n",
    "       print(\"setHeight(%d) \"% height)\n",
    "       self.frameHeight = height"
   ]
  },
  {
   "cell_type": "code",
   "execution_count": 78,
   "metadata": {},
   "outputs": [
    {
     "data": {
      "text/html": [
       "\n",
       "<style>\n",
       "    div#notebook-container    { width: 97%; }\n",
       "    div#menubar-container     { width: 65%; }\n",
       "    div#maintoolbar-container { width: 99%; }\n",
       "</style>\n"
      ],
      "text/plain": [
       "<IPython.core.display.HTML object>"
      ]
     },
     "metadata": {},
     "output_type": "display_data"
    }
   ],
   "source": [
    "display(HTML(data=\"\"\"\n",
    "<style>\n",
    "    div#notebook-container    { width: 97%; }\n",
    "    div#menubar-container     { width: 65%; }\n",
    "    div#maintoolbar-container { width: 99%; }\n",
    "</style>\n",
    "\"\"\"))"
   ]
  },
  {
   "cell_type": "code",
   "execution_count": 79,
   "metadata": {},
   "outputs": [
    {
     "data": {
      "text/html": [
       "<link rel=\"stylesheet\" type=\"text/css\" href=\"//igv.org/web/release/1.0.6/igv-1.0.6.css\">"
      ],
      "text/plain": [
       "<IPython.core.display.HTML object>"
      ]
     },
     "metadata": {},
     "output_type": "display_data"
    }
   ],
   "source": [
    "display(HTML('<link rel=\"stylesheet\" type=\"text/css\" href=\"//igv.org/web/release/1.0.6/igv-1.0.6.css\">'))"
   ]
  },
  {
   "cell_type": "code",
   "execution_count": 80,
   "metadata": {},
   "outputs": [
    {
     "data": {
      "application/javascript": [
       "\"use strict\"\n",
       "require.config({\n",
       "   'shim': {'bootstrap': {'deps' :['jquery']},\n",
       "            'igv': {'deps' :['jquery', 'jquery-ui', 'bootstrap']}\n",
       "           },\n",
       "    \n",
       "   paths: {'jquery'    :   'http://code.jquery.com/jquery-1.12.4.min',\n",
       "          'jquery-ui' :   'http://code.jquery.com/ui/1.12.1/jquery-ui.min',\n",
       "          'bootstrap' :   'http://maxcdn.bootstrapcdn.com/bootstrap/3.3.7/js/bootstrap.min',\n",
       "          'igv'       :   'http://igv.org/web/release/1.0.6/igv-1.0.6'\n",
       "          }\n",
       "   });\n",
       "\n",
       "require.undef('tabsDemo')\n",
       "\n",
       "define('tabsDemo', [\"jupyter-js-widgets\", \"jquery\", \"igv\"], \n",
       "       function(widgets, $, igv) {\n",
       "    \n",
       "    var TabsView = widgets.DOMWidgetView.extend({\n",
       "\n",
       "        initialize: function() {\n",
       "           this.options = {}\n",
       "           console.log(\"constructing TabsView\");\n",
       "           this.frameHeight = \"800px\";\n",
       "           },\n",
       "\n",
       "        resizeHandler: function(){\n",
       "           console.log(\"TabsView resizeHandler\")            \n",
       "           },\n",
       "        \n",
       "        createMasterTabsDiv: function(){\n",
       "           var masterTabsDiv = $(\"<div id='masterTabsDiv' style='border:1px solid gray; height: 400px; width: 97%'></div>\");\n",
       "            \n",
       "           var list = $(\"<ul/>\");\n",
       "           list.append(\"<li><a href='#tab-3'>three</a></li>\");\n",
       "           list.append(\"<li><a href='#tab-2'>igv</a></li>\");\n",
       "           masterTabsDiv.append(list);\n",
       "            \n",
       "           var tab2 = $(\"<div id='tab-2'></div>\");\n",
       "           tab2.append(\"<div id='igvDiv' style='border:1px solid blue; height:500px;'></div>\");\n",
       "            \n",
       "           var tab3 = $(\"<div id='tab-3'>contents 3</div>\");\n",
       "            \n",
       "           masterTabsDiv.append(tab2);\n",
       "           masterTabsDiv.append(tab3);\n",
       "            \n",
       "           return(masterTabsDiv);\n",
       "           },\n",
       "         \n",
       "\n",
       "        render: function() { \n",
       "            console.log(\"entering render\");\n",
       "            this.masterTabsDiv = this.createMasterTabsDiv();\n",
       "            this.$el.append(this.masterTabsDiv);\n",
       "            this.listenTo(this.model, 'change:frameHeight', this.frameDimensionsChanged, this);\n",
       "            var igvOptions = {\n",
       "                 palette: [\"#00A0B0\", \"#6A4A3C\", \"#CC333F\", \"#EB6841\"],\n",
       "                 locus: \"7:55,085,725 - 55,276,031\",\n",
       "                 reference: {id: \"hg19\",\n",
       "                   fastaURL: \"http://igv.broadinstitute.org/genomes/seq/1kg_v37/human_g1k_v37_decoy.fasta\",\n",
       "                   cytobandURL: \"http://igv.broadinstitute.org/genomes/seq/b37/b37_cytoband.txt\"\n",
       "                   },\n",
       "                 trackDefaults: {\n",
       "                    bam: {coverageThreshold: 0.2,\n",
       "                          coverageQualityWeight: true\n",
       "                         }\n",
       "                    },\n",
       "               tracks: [\n",
       "                {name: \"Genes\",\n",
       "                    url: \"http://igv.broadinstitute.org/annotations/hg19/genes/gencode.v18.collapsed.bed\",\n",
       "                    index: \"http://igv.broadinstitute.org/annotations/hg19/genes/gencode.v18.collapsed.bed.idx\",\n",
       "                    displayMode: \"EXPANDED\"\n",
       "                    }\n",
       "                 ]\n",
       "               }; // igvOptions\n",
       "             //$(\"#masterTabsDiv\").tabs();\n",
       "             setTimeout(function(){\n",
       "                  console.log(\"about to call tabs()\");\n",
       "                  //setTimeout(function() {window.browser = igv.createBrowser($(\"#igvDiv\"), igvOptions);}, 0);\n",
       "                  window.browser = igv.createBrowser($(\"#igvDiv\"), igvOptions);\n",
       "                  setTimeout(function() {$(\"#masterTabsDiv\").tabs();}, 3000);\n",
       "                  }, 3000);\n",
       "        }, // render\n",
       "\n",
       "           \n",
       "        frameDimensionsChanged: function(){\n",
       "           console.log(\"frameDimensionsChanged\");\n",
       "           var oldHeight = $(\"#mainDiv\").height()\n",
       "           var oldWidth = $(\"#mainDiv\").width()\n",
       "           var newHeight = this.model.get(\"frameHeight\");\n",
       "           var msg = \"<center>tabs demo, height: \" + oldHeight + \" -> \" + newHeight + \"</center>\";\n",
       "           $(\"#mainDiv\").html(msg);\n",
       "           $(\"#masterTabsDiv\").height(newHeight);\n",
       "        }, \n",
       "        \n",
       "\n",
       "    });\n",
       "    return {\n",
       "        TabsView: TabsView\n",
       "    };\n",
       "});"
      ],
      "text/plain": [
       "<IPython.core.display.Javascript object>"
      ]
     },
     "metadata": {},
     "output_type": "display_data"
    }
   ],
   "source": [
    "%%javascript\n",
    "\"use strict\"\n",
    "require.config({\n",
    "   'shim': {'bootstrap': {'deps' :['jquery']},\n",
    "            'igv': {'deps' :['jquery', 'jquery-ui', 'bootstrap']}\n",
    "           },\n",
    "    \n",
    "   paths: {'jquery'    :   'http://code.jquery.com/jquery-1.12.4.min',\n",
    "          'jquery-ui' :   'http://code.jquery.com/ui/1.12.1/jquery-ui.min',\n",
    "          'bootstrap' :   'http://maxcdn.bootstrapcdn.com/bootstrap/3.3.7/js/bootstrap.min',\n",
    "          'igv'       :   'http://igv.org/web/release/1.0.6/igv-1.0.6'\n",
    "          }\n",
    "   });\n",
    "\n",
    "require.undef('tabsDemo')\n",
    "\n",
    "define('tabsDemo', [\"jupyter-js-widgets\", \"jquery\", \"igv\"], \n",
    "       function(widgets, $, igv) {\n",
    "    \n",
    "    var TabsView = widgets.DOMWidgetView.extend({\n",
    "\n",
    "        initialize: function() {\n",
    "           this.options = {}\n",
    "           console.log(\"constructing TabsView\");\n",
    "           this.frameHeight = \"800px\";\n",
    "           },\n",
    "\n",
    "        resizeHandler: function(){\n",
    "           console.log(\"TabsView resizeHandler\")            \n",
    "           },\n",
    "        \n",
    "        createMasterTabsDiv: function(){\n",
    "           var masterTabsDiv = $(\"<div id='masterTabsDiv' style='border:1px solid gray; height: 400px; width: 97%'></div>\");\n",
    "            \n",
    "           var list = $(\"<ul/>\");\n",
    "           list.append(\"<li><a href='#tab-3'>three</a></li>\");\n",
    "           list.append(\"<li><a href='#tab-2'>igv</a></li>\");\n",
    "           masterTabsDiv.append(list);\n",
    "            \n",
    "           var tab2 = $(\"<div id='tab-2'></div>\");\n",
    "           tab2.append(\"<div id='igvDiv' style='border:1px solid blue; height:500px;'></div>\");\n",
    "            \n",
    "           var tab3 = $(\"<div id='tab-3'>contents 3</div>\");\n",
    "            \n",
    "           masterTabsDiv.append(tab2);\n",
    "           masterTabsDiv.append(tab3);\n",
    "            \n",
    "           return(masterTabsDiv);\n",
    "           },\n",
    "         \n",
    "\n",
    "        render: function() { \n",
    "            console.log(\"entering render\");\n",
    "            this.masterTabsDiv = this.createMasterTabsDiv();\n",
    "            this.$el.append(this.masterTabsDiv);\n",
    "            this.listenTo(this.model, 'change:frameHeight', this.frameDimensionsChanged, this);\n",
    "            var igvOptions = {\n",
    "                 palette: [\"#00A0B0\", \"#6A4A3C\", \"#CC333F\", \"#EB6841\"],\n",
    "                 locus: \"7:55,085,725 - 55,276,031\",\n",
    "                 reference: {id: \"hg19\",\n",
    "                   fastaURL: \"http://igv.broadinstitute.org/genomes/seq/1kg_v37/human_g1k_v37_decoy.fasta\",\n",
    "                   cytobandURL: \"http://igv.broadinstitute.org/genomes/seq/b37/b37_cytoband.txt\"\n",
    "                   },\n",
    "                 trackDefaults: {\n",
    "                    bam: {coverageThreshold: 0.2,\n",
    "                          coverageQualityWeight: true\n",
    "                         }\n",
    "                    },\n",
    "               tracks: [\n",
    "                {name: \"Genes\",\n",
    "                    url: \"http://igv.broadinstitute.org/annotations/hg19/genes/gencode.v18.collapsed.bed\",\n",
    "                    index: \"http://igv.broadinstitute.org/annotations/hg19/genes/gencode.v18.collapsed.bed.idx\",\n",
    "                    displayMode: \"EXPANDED\"\n",
    "                    }\n",
    "                 ]\n",
    "               }; // igvOptions\n",
    "             //$(\"#masterTabsDiv\").tabs();\n",
    "             setTimeout(function(){\n",
    "                  console.log(\"about to call tabs()\");\n",
    "                  //setTimeout(function() {window.browser = igv.createBrowser($(\"#igvDiv\"), igvOptions);}, 0);\n",
    "                  window.browser = igv.createBrowser($(\"#igvDiv\"), igvOptions);\n",
    "                  setTimeout(function() {$(\"#masterTabsDiv\").tabs();}, 3000);\n",
    "                  }, 3000);\n",
    "        }, // render\n",
    "\n",
    "           \n",
    "        frameDimensionsChanged: function(){\n",
    "           console.log(\"frameDimensionsChanged\");\n",
    "           var oldHeight = $(\"#mainDiv\").height()\n",
    "           var oldWidth = $(\"#mainDiv\").width()\n",
    "           var newHeight = this.model.get(\"frameHeight\");\n",
    "           var msg = \"<center>tabs demo, height: \" + oldHeight + \" -> \" + newHeight + \"</center>\";\n",
    "           $(\"#mainDiv\").html(msg);\n",
    "           $(\"#masterTabsDiv\").height(newHeight);\n",
    "        }, \n",
    "        \n",
    "\n",
    "    });\n",
    "    return {\n",
    "        TabsView: TabsView\n",
    "    };\n",
    "});"
   ]
  },
  {
   "cell_type": "code",
   "execution_count": 81,
   "metadata": {},
   "outputs": [
    {
     "data": {
      "application/vnd.jupyter.widget-view+json": {
       "model_id": "1078461a0ec64357936674953e7b3ffd"
      }
     },
     "metadata": {},
     "output_type": "display_data"
    }
   ],
   "source": [
    "app = TabsWidget()\n",
    "display(app)"
   ]
  },
  {
   "cell_type": "raw",
   "metadata": {},
   "source": []
  },
  {
   "cell_type": "code",
   "execution_count": null,
   "metadata": {
    "collapsed": true
   },
   "outputs": [],
   "source": []
  }
 ],
 "metadata": {
  "anaconda-cloud": {},
  "kernelspec": {
   "display_name": "Python [default]",
   "language": "python",
   "name": "python3"
  },
  "language_info": {
   "codemirror_mode": {
    "name": "ipython",
    "version": 3
   },
   "file_extension": ".py",
   "mimetype": "text/x-python",
   "name": "python",
   "nbconvert_exporter": "python",
   "pygments_lexer": "ipython3",
   "version": "3.5.2"
  }
 },
 "nbformat": 4,
 "nbformat_minor": 1
}
