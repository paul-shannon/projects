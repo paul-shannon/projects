{
 "cells": [
  {
   "cell_type": "code",
   "execution_count": 5,
   "metadata": {
    "collapsed": false
   },
   "outputs": [
    {
     "data": {
      "application/javascript": [
       "IPython.notebook.set_autosave_interval(0)"
      ]
     },
     "metadata": {},
     "output_type": "display_data"
    },
    {
     "name": "stdout",
     "output_type": "stream",
     "text": [
      "Autosave disabled\n"
     ]
    }
   ],
   "source": [
    "%autosave 0"
   ]
  },
  {
   "cell_type": "code",
   "execution_count": 6,
   "metadata": {
    "collapsed": true
   },
   "outputs": [],
   "source": [
    "import ipywidgets as widgets\n",
    "import json\n",
    "import time\n",
    "import os\n",
    "from IPython.display import display, HTML\n",
    "from traitlets import Int, Unicode, observe"
   ]
  },
  {
   "cell_type": "code",
   "execution_count": 7,
   "metadata": {
    "collapsed": true
   },
   "outputs": [],
   "source": [
    "import requests\n",
    "assert(requests.get('http://pshannon.systemsbiology.net/js/clustergrammer.js').status_code == 200)   "
   ]
  },
  {
   "cell_type": "code",
   "execution_count": 15,
   "metadata": {
    "collapsed": false
   },
   "outputs": [],
   "source": [
    "class CGRWidget(widgets.DOMWidget):\n",
    "\n",
    "    _view_name = Unicode('CGRView').tag(sync=True)\n",
    "    _view_module = Unicode('cgr').tag(sync=True)\n"
   ]
  },
  {
   "cell_type": "code",
   "execution_count": 13,
   "metadata": {
    "collapsed": false
   },
   "outputs": [
    {
     "data": {
      "application/javascript": [
       "\"use strict\"\n",
       "\n",
       "require.config({\n",
       "\n",
       "    paths: {'jquery'          : 'http://code.jquery.com/jquery-1.12.4.min',\n",
       "            'jquery-ui'       : 'http://code.jquery.com/ui/1.12.1/jquery-ui.min',\n",
       "            'jquery-dataTable': 'https://cdn.datatables.net/1.10.13/js/jquery.dataTables.min',\n",
       "            'cytoscape'       : 'http://cytoscape.github.io/cytoscape.js/api/cytoscape.js-latest/cytoscape',\n",
       "            'bootstrap'       : 'http://maxcdn.bootstrapcdn.com/bootstrap/3.3.7/js/bootstrap.min',\n",
       "            'igv'             : 'http://igv.org/web/release/1.0.7/igv-1.0.7',\n",
       "            'three'           : 'https://cdnjs.cloudflare.com/ajax/libs/three.js/r83/three',\n",
       "            'underscore'      : 'https://cdnjs.cloudflare.com/ajax/libs/underscore.js/1.8.3/underscore-min',\n",
       "            'clustergrammer'  : 'http://pshannon.systemsbiology.net/js/clustergrammer',\n",
       "            'app3d'           : 'http://pshannon.systemsbiology.net/js/app3d',\n",
       "            'd3'              : 'https://cdnjs.cloudflare.com/ajax/libs/d3/4.7.3/d3',\n",
       "            },\n",
       "    shim: {'bootstrap':   {'deps'   : ['jquery']},\n",
       "           'igv':         {'deps'   : ['jquery', 'jquery-ui', 'bootstrap']},\n",
       "           'three':       {'exports': 'THREE'},\n",
       "           'underscore':  {'exports': '_'},\n",
       "           }\n",
       "    });\n",
       "\n",
       "require.undef('cgrDemo')\n",
       "\n",
       "define('cgrDemo', [\"jupyter-js-widgets\", \"jquery\", \"jquery-ui\", \"jquery-dataTable\", \"cytoscape\", \"igv\", \n",
       "                   'three', 'app3d', 'd3', 'clustergrammer'], \n",
       "    function(widgets, $, ui, DataTable, cytoscape, igv, THREE, app3d, d3, clustergrammer) {\n",
       "    \n",
       "    var CGRView = widgets.DOMWidgetView.extend({\n",
       "\n",
       "        initialize: function() {\n",
       "          console.log(\"CGRView.initialize\")\n",
       "          },\n",
       "\n",
       "        render: function() {\n",
       "            var cgrDiv =  $(\"<div id='heatmapDiv' style='border:1px solid gray; height: 800px; width: 97%'></div>\");\n",
       "            this.$el.append(this.masterTabsDiv); \n",
       "            createHeatMap();\n",
       "           },\n",
       "\n",
       "        createHeatmap: function() {\n",
       "          var network_data =\n",
       "            {\"views\":\n",
       "               [{\"N_row_sum\": \"all\", \"dist\": \"cos\", \"nodes\":\n",
       "                  {\"col_nodes\": [{\"ini\": 3, \"rank\": 2, \"name\": \"s01_120405\", \"clust\": 1,\n",
       "                                  \"group\": [1.0, 1.0, 1.0, 1.0, 1.0, 1.0, 1.0, 1.0, 1.0, 1.0, 1.0], \"rankvar\": 2},\n",
       "                                 {\"ini\": 2, \"rank\": 1, \"name\": \"s02_120405\", \"clust\": 0,\n",
       "                                  \"group\": [3.0, 3.0, 2.0, 2.0, 2.0, 2.0, 2.0, 1.0, 1.0, 1.0, 1.0], \"rankvar\": 0},\n",
       "                                 {\"ini\": 1, \"rank\": 0, \"name\": \"s03_120405\", \"clust\": 2,\n",
       "                                  \"group\": [2.0, 2.0, 1.0, 1.0, 1.0, 1.0, 1.0, 1.0, 1.0, 1.0, 1.0], \"rankvar\": 1}],\n",
       "                   \"row_nodes\": [{\"ini\": 2, \"rank\": 0, \"name\": \"HLTF\", \"clust\": 0,\n",
       "                                  \"group\": [1.0, 1.0, 1.0, 1.0, 1.0, 1.0, 1.0, 1.0, 1.0, 1.0, 1.0], \"rankvar\": 0},\n",
       "                                 {\"ini\": 1, \"rank\": 1, \"name\": \"POU2F1\", \"clust\": 1,\n",
       "                                  \"group\": [2.0, 2.0, 2.0, 2.0, 2.0, 2.0, 2.0, 2.0, 2.0, 2.0, 1.0], \"rankvar\": 1}]}},\n",
       "                {\"dist\": \"cos\", \"N_row_var\": \"all\", \"nodes\":\n",
       "                  {\"col_nodes\": [{\"ini\": 3, \"rank\": 2, \"name\": \"s01_120405\", \"clust\": 1,\n",
       "                                  \"group\": [1.0, 1.0, 1.0, 1.0, 1.0, 1.0, 1.0, 1.0, 1.0, 1.0, 1.0], \"rankvar\": 2},\n",
       "                                 {\"ini\": 2, \"rank\": 1, \"name\": \"s02_120405\", \"clust\": 0,\n",
       "                                  \"group\": [3.0, 3.0, 2.0, 2.0, 2.0, 2.0, 2.0, 1.0, 1.0, 1.0, 1.0], \"rankvar\": 0},\n",
       "                                 {\"ini\": 1, \"rank\": 0, \"name\": \"s03_120405\", \"clust\": 2,\n",
       "                                  \"group\": [2.0, 2.0, 1.0, 1.0, 1.0, 1.0, 1.0, 1.0, 1.0, 1.0, 1.0], \"rankvar\": 1}],\n",
       "                   \"row_nodes\": [{\"ini\": 2, \"rank\": 0, \"name\": \"HLTF\", \"clust\": 0,\n",
       "                                  \"group\": [1.0, 1.0, 1.0, 1.0, 1.0, 1.0, 1.0, 1.0, 1.0, 1.0, 1.0], \"rankvar\": 0},\n",
       "                                 {\"ini\": 1, \"rank\": 1, \"name\": \"POU2F1\", \"clust\": 1,\n",
       "                                  \"group\": [2.0, 2.0, 2.0, 2.0, 2.0, 2.0, 2.0, 2.0, 2.0, 2.0, 1.0], \"rankvar\": 1}]}}],\n",
       "               \"col_nodes\": [{\"ini\": 3, \"rank\": 2, \"name\": \"s01_120405\", \"clust\": 1,\n",
       "                              \"group\": [1.0, 1.0, 1.0, 1.0, 1.0, 1.0, 1.0, 1.0, 1.0, 1.0, 1.0], \"rankvar\": 2},\n",
       "                             {\"ini\": 2, \"rank\": 1, \"name\": \"s02_120405\", \"clust\": 0,\n",
       "                              \"group\": [3.0, 3.0, 2.0, 2.0, 2.0, 2.0, 2.0, 1.0, 1.0, 1.0, 1.0], \"rankvar\": 0},\n",
       "                             {\"ini\": 1, \"rank\": 0, \"name\": \"s03_120405\", \"clust\": 2,\n",
       "                              \"group\": [2.0, 2.0, 1.0, 1.0, 1.0, 1.0, 1.0, 1.0, 1.0, 1.0, 1.0], \"rankvar\": 1}],\n",
       "               \"links\": [{\"target\": 0, \"value\": 5.591991, \"source\": 0},\n",
       "                         {\"target\": 1, \"value\": 11.939007, \"source\": 0},\n",
       "                         {\"target\": 2, \"value\": 7.738552, \"source\": 0},\n",
       "                         {\"target\": 0, \"value\": 31.060965999999997, \"source\": 1},\n",
       "                         {\"target\": 1, \"value\": 18.00348, \"source\": 1},\n",
       "                         {\"target\": 2, \"value\": 21.577569, \"source\": 1}],\n",
       "               \"row_nodes\": [{\"ini\": 2, \"rank\": 0, \"name\": \"HLTF\", \"clust\": 0,\n",
       "                              \"group\": [1.0, 1.0, 1.0, 1.0, 1.0, 1.0, 1.0, 1.0, 1.0, 1.0, 1.0], \"rankvar\": 0},\n",
       "                             {\"ini\": 1, \"rank\": 1, \"name\": \"POU2F1\", \"clust\": 1,\n",
       "                              \"group\": [2.0, 2.0, 2.0, 2.0, 2.0, 2.0, 2.0, 2.0, 2.0, 2.0, 1.0], \"rankvar\": 1}]};\n",
       "       \n",
       "          make_clust(network_data);\n",
       "          var about_string = 'Zoom, scroll, and click buttons to interact with the clustergram. <a href=\"http://amp.pharm.mssm.edu/clustergrammer/help\"> <i class=\"fa fa-question-circle\" aria-hidden=\"true\"></i> </a>';\n",
       "          function make_clust(network_data){\n",
       "             var args = {\n",
       "                'root': '#heatmapDiv',\n",
       "                'network_data': network_data,\n",
       "                'about': about_string,\n",
       "                'sidebar_width':150,\n",
       "                };\n",
       "             var screen_width = window.innerWidth;\n",
       "             var screen_height = window.innerHeight - 20;\n",
       "             $(\"#heatmapDiv\").width(screen_width);\n",
       "             $(\"#heatmapDiv\").height(screen_height);\n",
       "             cgm = Clustergrammer(args);\n",
       "             $(\"#heatmapDiv .wait_message\").remove()\n",
       "             console.log('loading clustergrammer')\n",
       "             } // make_clust\n",
       "         }, // createHeatmap\n",
       "        \n",
       "    });\n",
       "    return{CGRView: CGRView}\n",
       "    });\n",
       " "
      ],
      "text/plain": [
       "<IPython.core.display.Javascript object>"
      ]
     },
     "metadata": {},
     "output_type": "display_data"
    }
   ],
   "source": [
    "%%javascript\n",
    "\"use strict\"\n",
    "\n",
    "require.config({\n",
    "\n",
    "    paths: {'jquery'          : 'http://code.jquery.com/jquery-1.12.4.min',\n",
    "            'jquery-ui'       : 'http://code.jquery.com/ui/1.12.1/jquery-ui.min',\n",
    "            'jquery-dataTable': 'https://cdn.datatables.net/1.10.13/js/jquery.dataTables.min',\n",
    "            'cytoscape'       : 'http://cytoscape.github.io/cytoscape.js/api/cytoscape.js-latest/cytoscape',\n",
    "            'bootstrap'       : 'http://maxcdn.bootstrapcdn.com/bootstrap/3.3.7/js/bootstrap.min',\n",
    "            'igv'             : 'http://igv.org/web/release/1.0.7/igv-1.0.7',\n",
    "            'three'           : 'https://cdnjs.cloudflare.com/ajax/libs/three.js/r83/three',\n",
    "            'underscore'      : 'https://cdnjs.cloudflare.com/ajax/libs/underscore.js/1.8.3/underscore-min',\n",
    "            'clustergrammer'  : 'http://pshannon.systemsbiology.net/js/clustergrammer',\n",
    "            'app3d'           : 'http://pshannon.systemsbiology.net/js/app3d',\n",
    "            'd3'              : 'https://cdnjs.cloudflare.com/ajax/libs/d3/4.7.3/d3',\n",
    "            },\n",
    "    shim: {'bootstrap':   {'deps'   : ['jquery']},\n",
    "           'igv':         {'deps'   : ['jquery', 'jquery-ui', 'bootstrap']},\n",
    "           'three':       {'exports': 'THREE'},\n",
    "           'underscore':  {'exports': '_'},\n",
    "           }\n",
    "    });\n",
    "\n",
    "require.undef('cgrDemo')\n",
    "\n",
    "define('cgrDemo', [\"jupyter-js-widgets\", \"jquery\", \"jquery-ui\", \"jquery-dataTable\", \"cytoscape\", \"igv\", \n",
    "                   'three', 'app3d', 'd3', 'clustergrammer'], \n",
    "    function(widgets, $, ui, DataTable, cytoscape, igv, THREE, app3d, d3, clustergrammer) {\n",
    "    \n",
    "    var CGRView = widgets.DOMWidgetView.extend({\n",
    "\n",
    "        initialize: function() {\n",
    "          console.log(\"CGRView.initialize\")\n",
    "          },\n",
    "\n",
    "        render: function() {\n",
    "            var cgrDiv =  $(\"<div id='heatmapDiv' style='border:1px solid gray; height: 800px; width: 97%'></div>\");\n",
    "            this.$el.append(this.masterTabsDiv); \n",
    "            createHeatMap();\n",
    "           },\n",
    "\n",
    "        createHeatmap: function() {\n",
    "          var network_data =\n",
    "            {\"views\":\n",
    "               [{\"N_row_sum\": \"all\", \"dist\": \"cos\", \"nodes\":\n",
    "                  {\"col_nodes\": [{\"ini\": 3, \"rank\": 2, \"name\": \"s01_120405\", \"clust\": 1,\n",
    "                                  \"group\": [1.0, 1.0, 1.0, 1.0, 1.0, 1.0, 1.0, 1.0, 1.0, 1.0, 1.0], \"rankvar\": 2},\n",
    "                                 {\"ini\": 2, \"rank\": 1, \"name\": \"s02_120405\", \"clust\": 0,\n",
    "                                  \"group\": [3.0, 3.0, 2.0, 2.0, 2.0, 2.0, 2.0, 1.0, 1.0, 1.0, 1.0], \"rankvar\": 0},\n",
    "                                 {\"ini\": 1, \"rank\": 0, \"name\": \"s03_120405\", \"clust\": 2,\n",
    "                                  \"group\": [2.0, 2.0, 1.0, 1.0, 1.0, 1.0, 1.0, 1.0, 1.0, 1.0, 1.0], \"rankvar\": 1}],\n",
    "                   \"row_nodes\": [{\"ini\": 2, \"rank\": 0, \"name\": \"HLTF\", \"clust\": 0,\n",
    "                                  \"group\": [1.0, 1.0, 1.0, 1.0, 1.0, 1.0, 1.0, 1.0, 1.0, 1.0, 1.0], \"rankvar\": 0},\n",
    "                                 {\"ini\": 1, \"rank\": 1, \"name\": \"POU2F1\", \"clust\": 1,\n",
    "                                  \"group\": [2.0, 2.0, 2.0, 2.0, 2.0, 2.0, 2.0, 2.0, 2.0, 2.0, 1.0], \"rankvar\": 1}]}},\n",
    "                {\"dist\": \"cos\", \"N_row_var\": \"all\", \"nodes\":\n",
    "                  {\"col_nodes\": [{\"ini\": 3, \"rank\": 2, \"name\": \"s01_120405\", \"clust\": 1,\n",
    "                                  \"group\": [1.0, 1.0, 1.0, 1.0, 1.0, 1.0, 1.0, 1.0, 1.0, 1.0, 1.0], \"rankvar\": 2},\n",
    "                                 {\"ini\": 2, \"rank\": 1, \"name\": \"s02_120405\", \"clust\": 0,\n",
    "                                  \"group\": [3.0, 3.0, 2.0, 2.0, 2.0, 2.0, 2.0, 1.0, 1.0, 1.0, 1.0], \"rankvar\": 0},\n",
    "                                 {\"ini\": 1, \"rank\": 0, \"name\": \"s03_120405\", \"clust\": 2,\n",
    "                                  \"group\": [2.0, 2.0, 1.0, 1.0, 1.0, 1.0, 1.0, 1.0, 1.0, 1.0, 1.0], \"rankvar\": 1}],\n",
    "                   \"row_nodes\": [{\"ini\": 2, \"rank\": 0, \"name\": \"HLTF\", \"clust\": 0,\n",
    "                                  \"group\": [1.0, 1.0, 1.0, 1.0, 1.0, 1.0, 1.0, 1.0, 1.0, 1.0, 1.0], \"rankvar\": 0},\n",
    "                                 {\"ini\": 1, \"rank\": 1, \"name\": \"POU2F1\", \"clust\": 1,\n",
    "                                  \"group\": [2.0, 2.0, 2.0, 2.0, 2.0, 2.0, 2.0, 2.0, 2.0, 2.0, 1.0], \"rankvar\": 1}]}}],\n",
    "               \"col_nodes\": [{\"ini\": 3, \"rank\": 2, \"name\": \"s01_120405\", \"clust\": 1,\n",
    "                              \"group\": [1.0, 1.0, 1.0, 1.0, 1.0, 1.0, 1.0, 1.0, 1.0, 1.0, 1.0], \"rankvar\": 2},\n",
    "                             {\"ini\": 2, \"rank\": 1, \"name\": \"s02_120405\", \"clust\": 0,\n",
    "                              \"group\": [3.0, 3.0, 2.0, 2.0, 2.0, 2.0, 2.0, 1.0, 1.0, 1.0, 1.0], \"rankvar\": 0},\n",
    "                             {\"ini\": 1, \"rank\": 0, \"name\": \"s03_120405\", \"clust\": 2,\n",
    "                              \"group\": [2.0, 2.0, 1.0, 1.0, 1.0, 1.0, 1.0, 1.0, 1.0, 1.0, 1.0], \"rankvar\": 1}],\n",
    "               \"links\": [{\"target\": 0, \"value\": 5.591991, \"source\": 0},\n",
    "                         {\"target\": 1, \"value\": 11.939007, \"source\": 0},\n",
    "                         {\"target\": 2, \"value\": 7.738552, \"source\": 0},\n",
    "                         {\"target\": 0, \"value\": 31.060965999999997, \"source\": 1},\n",
    "                         {\"target\": 1, \"value\": 18.00348, \"source\": 1},\n",
    "                         {\"target\": 2, \"value\": 21.577569, \"source\": 1}],\n",
    "               \"row_nodes\": [{\"ini\": 2, \"rank\": 0, \"name\": \"HLTF\", \"clust\": 0,\n",
    "                              \"group\": [1.0, 1.0, 1.0, 1.0, 1.0, 1.0, 1.0, 1.0, 1.0, 1.0, 1.0], \"rankvar\": 0},\n",
    "                             {\"ini\": 1, \"rank\": 1, \"name\": \"POU2F1\", \"clust\": 1,\n",
    "                              \"group\": [2.0, 2.0, 2.0, 2.0, 2.0, 2.0, 2.0, 2.0, 2.0, 2.0, 1.0], \"rankvar\": 1}]};\n",
    "       \n",
    "          make_clust(network_data);\n",
    "          var about_string = 'Zoom, scroll, and click buttons to interact with the clustergram. <a href=\"http://amp.pharm.mssm.edu/clustergrammer/help\"> <i class=\"fa fa-question-circle\" aria-hidden=\"true\"></i> </a>';\n",
    "          function make_clust(network_data){\n",
    "             var args = {\n",
    "                'root': '#heatmapDiv',\n",
    "                'network_data': network_data,\n",
    "                'about': about_string,\n",
    "                'sidebar_width':150,\n",
    "                };\n",
    "             var screen_width = window.innerWidth;\n",
    "             var screen_height = window.innerHeight - 20;\n",
    "             $(\"#heatmapDiv\").width(screen_width);\n",
    "             $(\"#heatmapDiv\").height(screen_height);\n",
    "             cgm = Clustergrammer(args);\n",
    "             $(\"#heatmapDiv .wait_message\").remove()\n",
    "             console.log('loading clustergrammer')\n",
    "             } // make_clust\n",
    "         }, // createHeatmap\n",
    "        \n",
    "    });\n",
    "    return{CGRView: CGRView}\n",
    "    });\n",
    " "
   ]
  },
  {
   "cell_type": "code",
   "execution_count": 12,
   "metadata": {
    "collapsed": true
   },
   "outputs": [],
   "source": [
    "cgr = CGRWidget()"
   ]
  },
  {
   "cell_type": "code",
   "execution_count": null,
   "metadata": {
    "collapsed": true
   },
   "outputs": [],
   "source": []
  }
 ],
 "metadata": {
  "kernelspec": {
   "display_name": "Python 3",
   "language": "python",
   "name": "python3"
  },
  "language_info": {
   "codemirror_mode": {
    "name": "ipython",
    "version": 3
   },
   "file_extension": ".py",
   "mimetype": "text/x-python",
   "name": "python",
   "nbconvert_exporter": "python",
   "pygments_lexer": "ipython3",
   "version": "3.6.0"
  }
 },
 "nbformat": 4,
 "nbformat_minor": 2
}
