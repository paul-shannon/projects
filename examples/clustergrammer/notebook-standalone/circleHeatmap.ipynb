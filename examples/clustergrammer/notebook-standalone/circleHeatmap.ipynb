{
 "cells": [
  {
   "cell_type": "code",
   "execution_count": 25,
   "metadata": {
    "collapsed": true,
    "deletable": true,
    "editable": true
   },
   "outputs": [],
   "source": [
    "import ipywidgets as widgets\n",
    "import json\n",
    "import time\n",
    "import os\n",
    "from IPython.display import display, HTML\n",
    "from traitlets import Int, Unicode, List,observe"
   ]
  },
  {
   "cell_type": "code",
   "execution_count": 26,
   "metadata": {
    "collapsed": true,
    "deletable": true,
    "editable": true
   },
   "outputs": [],
   "source": [
    "import requests\n",
    "assert(requests.get('http://pshannon.systemsbiology.net/js/clustergrammer.js').status_code == 200)"
   ]
  },
  {
   "cell_type": "code",
   "execution_count": 16,
   "metadata": {
    "collapsed": false,
    "deletable": true,
    "editable": true
   },
   "outputs": [
    {
     "data": {
      "text/html": [
       "<link rel=\"stylesheet\" type=\"text/css\" href=\"https://maxcdn.bootstrapcdn.com/font-awesome/4.7.0/css/font-awesome.min.css\">"
      ],
      "text/plain": [
       "<IPython.core.display.HTML object>"
      ]
     },
     "metadata": {},
     "output_type": "display_data"
    },
    {
     "data": {
      "text/html": [
       "<link rel=\"stylesheet\" type=\"text/css\" href=\"https://maxcdn.bootstrapcdn.com/bootstrap/3.3.7/css/bootstrap.min.css\")"
      ],
      "text/plain": [
       "<IPython.core.display.HTML object>"
      ]
     },
     "metadata": {},
     "output_type": "display_data"
    }
   ],
   "source": [
    "# display(HTML('<link rel=\"stylesheet\" type=\"text/css\" href=\"https://cdn.datatables.net/1.10.13/css/jquery.dataTables.min.css\">'))\n",
    "#    <link rel=\"stylesheet\" href=\"css/custom.css\" />\n",
    "display(HTML('<link rel=\"stylesheet\" type=\"text/css\" href=\"https://maxcdn.bootstrapcdn.com/font-awesome/4.7.0/css/font-awesome.min.css\">'))\n",
    "display(HTML('<link rel=\"stylesheet\" type=\"text/css\" href=\"https://maxcdn.bootstrapcdn.com/bootstrap/3.3.7/css/bootstrap.min.css\")'))"
   ]
  },
  {
   "cell_type": "code",
   "execution_count": 22,
   "metadata": {
    "collapsed": false
   },
   "outputs": [
    {
     "data": {
      "text/html": [
       "<script src='http://cdnjs.cloudflare.com/ajax/libs/d3/3.4.8/d3.min.js'></script>"
      ],
      "text/plain": [
       "<IPython.core.display.HTML object>"
      ]
     },
     "metadata": {},
     "output_type": "display_data"
    },
    {
     "data": {
      "text/html": [
       "<script src='http://pshannon.systemsbiology.net/js/clustergrammer.js'></script"
      ],
      "text/plain": [
       "<IPython.core.display.HTML object>"
      ]
     },
     "metadata": {},
     "output_type": "display_data"
    }
   ],
   "source": [
    "display(HTML(\"<script src='http://cdnjs.cloudflare.com/ajax/libs/d3/3.4.8/d3.min.js'></script>\"))\n",
    "display(HTML(\"<script src='http://pshannon.systemsbiology.net/js/clustergrammer.js'></script\"))"
   ]
  },
  {
   "cell_type": "code",
   "execution_count": 17,
   "metadata": {
    "collapsed": false,
    "deletable": true,
    "editable": true
   },
   "outputs": [],
   "source": [
    "#import ipywidgets as widgets\n",
    "#from traitlets import Int, Unicode, List\n",
    "\n",
    "class CircleWidget(widgets.DOMWidget):\n",
    "\n",
    "    _view_name = Unicode('CircleView').tag(sync=True)\n",
    "    _view_module = Unicode('circle').tag(sync=True)\n",
    "    newCircleRequest = List().tag(sync=True)\n",
    "    circleCount = Int(0).tag(sync=True);\n",
    "\n",
    "    def drawCircle(self, x, y, radius):\n",
    "       newCircle = {\"x\": x,  \"y\": y, \"radius\": radius};\n",
    "       self.newCircleRequest = [newCircle];\n",
    "        \n",
    "    def getCount(self):\n",
    "       return(self.circleCount);"
   ]
  },
  {
   "cell_type": "code",
   "execution_count": 23,
   "metadata": {
    "collapsed": false,
    "deletable": true,
    "editable": true
   },
   "outputs": [
    {
     "data": {
      "application/javascript": [
       "\"use strict\";\n",
       "\n",
       "require.config({\n",
       "\n",
       "    paths: {'jquery'          : 'http://code.jquery.com/jquery-1.12.4.min',\n",
       "            'jquery-ui'       : 'http://code.jquery.com/ui/1.12.1/jquery-ui.min',\n",
       "            'jquery-dataTable': 'https://cdn.datatables.net/1.10.13/js/jquery.dataTables.min',\n",
       "            'cytoscape'       : 'http://cytoscape.github.io/cytoscape.js/api/cytoscape.js-latest/cytoscape',\n",
       "            'bootstrap'       : 'http://maxcdn.bootstrapcdn.com/bootstrap/3.3.7/js/bootstrap.min',\n",
       "            'igv'             : 'http://igv.org/web/release/1.0.7/igv-1.0.7',\n",
       "            'three'           : 'https://cdnjs.cloudflare.com/ajax/libs/three.js/r83/three',\n",
       "            'underscore'      : 'https://cdnjs.cloudflare.com/ajax/libs/underscore.js/1.8.3/underscore-min',\n",
       "            'd3'              : 'https://cdnjs.cloudflare.com/ajax/libs/d3/4.7.3/d3',\n",
       "            'clustergrammer'  : 'http://pshannon.systemsbiology.net/js/clustergrammer',\n",
       "            'app3d'           : 'http://pshannon.systemsbiology.net/js/app3d',\n",
       "            },\n",
       "    shim: {'bootstrap':   {'deps'   : ['jquery']},\n",
       "           'igv':         {'deps'   : ['jquery', 'jquery-ui', 'bootstrap']},\n",
       "           'three':       {'exports': 'THREE'},\n",
       "           'underscore':  {'exports': '_'},\n",
       "           }\n",
       "    });\n",
       "\n",
       "\n",
       "require.undef('circle');\n",
       "\n",
       "define('circle', [\"jupyter-js-widgets\", \"underscore\", \"jquery\", \"d3\", \"clustergrammer\"], \n",
       "       function(widgets, _, $, d3, clustergrammer) {\n",
       "    \n",
       "    var CircleView = widgets.DOMWidgetView.extend({\n",
       "\n",
       "        initialize: function() {\n",
       "           console.log(\"--- CircleView.initialize\")\n",
       "           console.log(\"d3: \");\n",
       "           console.log(d3);\n",
       "           debugger;\n",
       "           console.log(\"Clustergrammer: \");\n",
       "           console.log(Clustergrammer);\n",
       "            \n",
       "           this.options = {};  // if this is missing: \"Error setting state: view.options is undefined\"\n",
       "           this.circles = [];\n",
       "           this.circleCount = 0;\n",
       "           },\n",
       "\n",
       "        createDiv: function(){\n",
       "            var toolbarDiv = $(\"<div id='toolbarDiv' style='border:1px solid gray; height: 30px; width: 600px'></div>\");\n",
       "            var div = $(\"<div id='d3DemoDiv' style='border:1px solid red; height: 600px; width: 600px'></div>\");\n",
       "            var heatmapDiv = $(\"<div id='heatmapDiv' style='border:1px solid gray; height: 300px; width: 600px'><h3>heatmap</h3></div>\");\n",
       "            div.append(heatmapDiv);\n",
       "            div.append(toolbarDiv);\n",
       "            this.circleCountReadout = $(\"<input type='text' id='circleCountReadout' value='0'/>\");\n",
       "            toolbarDiv.append(this.circleCountReadout);\n",
       "            var circleView = this;\n",
       "            function clearCircles() {\n",
       "               circleView.circles = [];\n",
       "               circleView.circleCount = 0;\n",
       "               $(\"#circleCountReadout\").val(0);\n",
       "               $(\"#svg\").children().remove();\n",
       "               circleView.model.set(\"circleCount\", 0);\n",
       "               circleView.touch();\n",
       "               };\n",
       "\n",
       "            var clearButton = $('<button>Clear Circles</button>').click(clearCircles);\n",
       "            toolbarDiv.append(clearButton);\n",
       "            return(div);\n",
       "            },\n",
       "  \n",
       "        createCanvas: function(){\n",
       "           var svg = d3.select(\"#d3DemoDiv\")\n",
       "                       .append(\"svg\")\n",
       "                       .attr(\"id\", \"svg\").attr(\"width\", 600).attr(\"height\", 300);\n",
       "           this.svg = svg;\n",
       "           var circleView = this;\n",
       "           svg.on('click', function() {\n",
       "              var coords = d3.mouse(this);\n",
       "              var newCircle = {x: coords[0], y: coords[1], radius: 20,\n",
       "                               borderColor: \"black\", fillColor: \"beige\"};\n",
       "              circleView.circles.push(newCircle);\n",
       "              circleView.drawCircle(newCircle, \"blue\");\n",
       "              });\n",
       "           }, \n",
       "\n",
       "        createHeatmap: function() {\n",
       "          var network_data =\n",
       "            {\"views\":\n",
       "               [{\"N_row_sum\": \"all\", \"dist\": \"cos\", \"nodes\":\n",
       "                  {\"col_nodes\": [{\"ini\": 3, \"rank\": 2, \"name\": \"s01_120405\", \"clust\": 1,\n",
       "                                  \"group\": [1.0, 1.0, 1.0, 1.0, 1.0, 1.0, 1.0, 1.0, 1.0, 1.0, 1.0], \"rankvar\": 2},\n",
       "                                 {\"ini\": 2, \"rank\": 1, \"name\": \"s02_120405\", \"clust\": 0,\n",
       "                                  \"group\": [3.0, 3.0, 2.0, 2.0, 2.0, 2.0, 2.0, 1.0, 1.0, 1.0, 1.0], \"rankvar\": 0},\n",
       "                                 {\"ini\": 1, \"rank\": 0, \"name\": \"s03_120405\", \"clust\": 2,\n",
       "                                  \"group\": [2.0, 2.0, 1.0, 1.0, 1.0, 1.0, 1.0, 1.0, 1.0, 1.0, 1.0], \"rankvar\": 1}],\n",
       "                   \"row_nodes\": [{\"ini\": 2, \"rank\": 0, \"name\": \"HLTF\", \"clust\": 0,\n",
       "                                  \"group\": [1.0, 1.0, 1.0, 1.0, 1.0, 1.0, 1.0, 1.0, 1.0, 1.0, 1.0], \"rankvar\": 0},\n",
       "                                 {\"ini\": 1, \"rank\": 1, \"name\": \"POU2F1\", \"clust\": 1,\n",
       "                                  \"group\": [2.0, 2.0, 2.0, 2.0, 2.0, 2.0, 2.0, 2.0, 2.0, 2.0, 1.0], \"rankvar\": 1}]}},\n",
       "                {\"dist\": \"cos\", \"N_row_var\": \"all\", \"nodes\":\n",
       "                  {\"col_nodes\": [{\"ini\": 3, \"rank\": 2, \"name\": \"s01_120405\", \"clust\": 1,\n",
       "                                  \"group\": [1.0, 1.0, 1.0, 1.0, 1.0, 1.0, 1.0, 1.0, 1.0, 1.0, 1.0], \"rankvar\": 2},\n",
       "                                 {\"ini\": 2, \"rank\": 1, \"name\": \"s02_120405\", \"clust\": 0,\n",
       "                                  \"group\": [3.0, 3.0, 2.0, 2.0, 2.0, 2.0, 2.0, 1.0, 1.0, 1.0, 1.0], \"rankvar\": 0},\n",
       "                                 {\"ini\": 1, \"rank\": 0, \"name\": \"s03_120405\", \"clust\": 2,\n",
       "                                  \"group\": [2.0, 2.0, 1.0, 1.0, 1.0, 1.0, 1.0, 1.0, 1.0, 1.0, 1.0], \"rankvar\": 1}],\n",
       "                   \"row_nodes\": [{\"ini\": 2, \"rank\": 0, \"name\": \"HLTF\", \"clust\": 0,\n",
       "                                  \"group\": [1.0, 1.0, 1.0, 1.0, 1.0, 1.0, 1.0, 1.0, 1.0, 1.0, 1.0], \"rankvar\": 0},\n",
       "                                 {\"ini\": 1, \"rank\": 1, \"name\": \"POU2F1\", \"clust\": 1,\n",
       "                                  \"group\": [2.0, 2.0, 2.0, 2.0, 2.0, 2.0, 2.0, 2.0, 2.0, 2.0, 1.0], \"rankvar\": 1}]}}],\n",
       "               \"col_nodes\": [{\"ini\": 3, \"rank\": 2, \"name\": \"s01_120405\", \"clust\": 1,\n",
       "                              \"group\": [1.0, 1.0, 1.0, 1.0, 1.0, 1.0, 1.0, 1.0, 1.0, 1.0, 1.0], \"rankvar\": 2},\n",
       "                             {\"ini\": 2, \"rank\": 1, \"name\": \"s02_120405\", \"clust\": 0,\n",
       "                              \"group\": [3.0, 3.0, 2.0, 2.0, 2.0, 2.0, 2.0, 1.0, 1.0, 1.0, 1.0], \"rankvar\": 0},\n",
       "                             {\"ini\": 1, \"rank\": 0, \"name\": \"s03_120405\", \"clust\": 2,\n",
       "                              \"group\": [2.0, 2.0, 1.0, 1.0, 1.0, 1.0, 1.0, 1.0, 1.0, 1.0, 1.0], \"rankvar\": 1}],\n",
       "               \"links\": [{\"target\": 0, \"value\": 5.591991, \"source\": 0},\n",
       "                         {\"target\": 1, \"value\": 11.939007, \"source\": 0},\n",
       "                         {\"target\": 2, \"value\": 7.738552, \"source\": 0},\n",
       "                         {\"target\": 0, \"value\": 31.060965999999997, \"source\": 1},\n",
       "                         {\"target\": 1, \"value\": 18.00348, \"source\": 1},\n",
       "                         {\"target\": 2, \"value\": 21.577569, \"source\": 1}],\n",
       "               \"row_nodes\": [{\"ini\": 2, \"rank\": 0, \"name\": \"HLTF\", \"clust\": 0,\n",
       "                              \"group\": [1.0, 1.0, 1.0, 1.0, 1.0, 1.0, 1.0, 1.0, 1.0, 1.0, 1.0], \"rankvar\": 0},\n",
       "                             {\"ini\": 1, \"rank\": 1, \"name\": \"POU2F1\", \"clust\": 1,\n",
       "                              \"group\": [2.0, 2.0, 2.0, 2.0, 2.0, 2.0, 2.0, 2.0, 2.0, 2.0, 1.0], \"rankvar\": 1}]};\n",
       "       \n",
       "          make_clust(network_data);\n",
       "          var about_string = 'Zoom, scroll, and click buttons to interact with the clustergram. <a href=\"http://amp.pharm.mssm.edu/clustergrammer/help\"> <i class=\"fa fa-question-circle\" aria-hidden=\"true\"></i> </a>';\n",
       "          function make_clust(network_data){\n",
       "             var args = {\n",
       "                'root': '#heatmapDiv',\n",
       "                'network_data': network_data,\n",
       "                'about': about_string,\n",
       "                'sidebar_width':150,\n",
       "                };\n",
       "             var screen_width = window.innerWidth;\n",
       "             var screen_height = 300;\n",
       "             $(\"#heatmapDiv\").width(screen_width);\n",
       "             $(\"#heatmapDiv\").height(screen_height);\n",
       "             cgm = Clustergrammer(args);\n",
       "             $(\"#heatmapDiv .wait_message\").remove()\n",
       "             console.log('loading clustergrammer')\n",
       "             } // make_clust\n",
       "         }, // createHeatmap\n",
       "\n",
       "        drawCircle: function(obj, color){\n",
       "           this.svg.append(\"circle\")\n",
       "              .style(\"stroke\", color)\n",
       "              .style(\"fill\", \"white\")\n",
       "              .attr(\"r\", obj.radius)\n",
       "              .attr(\"cx\", obj.x)\n",
       "              .attr(\"cy\", obj.y)\n",
       "              .on(\"mouseover\", function(){d3.select(this).style(\"fill\", \"aliceblue\");})\n",
       "              .on(\"mouseout\",  function(){d3.select(this).style(\"fill\", \"white\");});\n",
       "           this.circleCount += 1;\n",
       "           $(\"#circleCountReadout\").val(this.circleCount);\n",
       "           this.model.set(\"circleCount\", this.circleCount);\n",
       "           this.touch();\n",
       "           },\n",
       "\n",
       "        render: function() { \n",
       "            this.$el.append(this.createDiv());\n",
       "            this.listenTo(this.model, 'change:newCircleRequest', this.newCircleRequested, this);\n",
       "            var circleView = this;\n",
       "            function delayCanvasCreationUntilDivExists(){ \n",
       "                 // would be better to trigger on DOM div creation. not knowing how to do that, \n",
       "                 // this setTimeout hack will have to suffice.\n",
       "                circleView.createCanvas();\n",
       "                circleView.createHeatmap();\n",
       "               }\n",
       "            setTimeout(delayCanvasCreationUntilDivExists, 0);\n",
       "            },\n",
       "\n",
       "        newCircleRequested: function() {\n",
       "           var newCircle = this.model.get(\"newCircleRequest\")[0];\n",
       "           this.circles.push(newCircle);\n",
       "           this.drawCircle(newCircle, \"red\");\n",
       "           }\n",
       "\n",
       "    });\n",
       "    return {\n",
       "        CircleView : CircleView\n",
       "    };\n",
       "});"
      ],
      "text/plain": [
       "<IPython.core.display.Javascript object>"
      ]
     },
     "metadata": {},
     "output_type": "display_data"
    }
   ],
   "source": [
    "%%javascript\n",
    "\"use strict\";\n",
    "\n",
    "require.config({\n",
    "\n",
    "    paths: {'jquery'          : 'http://code.jquery.com/jquery-1.12.4.min',\n",
    "            'jquery-ui'       : 'http://code.jquery.com/ui/1.12.1/jquery-ui.min',\n",
    "            'jquery-dataTable': 'https://cdn.datatables.net/1.10.13/js/jquery.dataTables.min',\n",
    "            'cytoscape'       : 'http://cytoscape.github.io/cytoscape.js/api/cytoscape.js-latest/cytoscape',\n",
    "            'bootstrap'       : 'http://maxcdn.bootstrapcdn.com/bootstrap/3.3.7/js/bootstrap.min',\n",
    "            'igv'             : 'http://igv.org/web/release/1.0.7/igv-1.0.7',\n",
    "            'three'           : 'https://cdnjs.cloudflare.com/ajax/libs/three.js/r83/three',\n",
    "            'underscore'      : 'https://cdnjs.cloudflare.com/ajax/libs/underscore.js/1.8.3/underscore-min',\n",
    "            'd3'              : 'https://cdnjs.cloudflare.com/ajax/libs/d3/4.7.3/d3',\n",
    "            'clustergrammer'  : 'http://pshannon.systemsbiology.net/js/clustergrammer',\n",
    "            'app3d'           : 'http://pshannon.systemsbiology.net/js/app3d',\n",
    "            },\n",
    "    shim: {'bootstrap':   {'deps'   : ['jquery']},\n",
    "           'igv':         {'deps'   : ['jquery', 'jquery-ui', 'bootstrap']},\n",
    "           'three':       {'exports': 'THREE'},\n",
    "           'underscore':  {'exports': '_'},\n",
    "           }\n",
    "    });\n",
    "\n",
    "\n",
    "require.undef('circle');\n",
    "\n",
    "define('circle', [\"jupyter-js-widgets\", \"underscore\", \"jquery\", \"d3\", \"clustergrammer\"], \n",
    "       function(widgets, _, $, d3, clustergrammer) {\n",
    "    \n",
    "    var CircleView = widgets.DOMWidgetView.extend({\n",
    "\n",
    "        initialize: function() {\n",
    "           console.log(\"--- CircleView.initialize\")\n",
    "           console.log(\"d3: \");\n",
    "           console.log(d3);\n",
    "           debugger;\n",
    "           console.log(\"Clustergrammer: \");\n",
    "           console.log(Clustergrammer);\n",
    "            \n",
    "           this.options = {};  // if this is missing: \"Error setting state: view.options is undefined\"\n",
    "           this.circles = [];\n",
    "           this.circleCount = 0;\n",
    "           },\n",
    "\n",
    "        createDiv: function(){\n",
    "            var toolbarDiv = $(\"<div id='toolbarDiv' style='border:1px solid gray; height: 30px; width: 600px'></div>\");\n",
    "            var div = $(\"<div id='d3DemoDiv' style='border:1px solid red; height: 600px; width: 600px'></div>\");\n",
    "            var heatmapDiv = $(\"<div id='heatmapDiv' style='border:1px solid gray; height: 300px; width: 600px'><h3>heatmap</h3></div>\");\n",
    "            div.append(heatmapDiv);\n",
    "            div.append(toolbarDiv);\n",
    "            this.circleCountReadout = $(\"<input type='text' id='circleCountReadout' value='0'/>\");\n",
    "            toolbarDiv.append(this.circleCountReadout);\n",
    "            var circleView = this;\n",
    "            function clearCircles() {\n",
    "               circleView.circles = [];\n",
    "               circleView.circleCount = 0;\n",
    "               $(\"#circleCountReadout\").val(0);\n",
    "               $(\"#svg\").children().remove();\n",
    "               circleView.model.set(\"circleCount\", 0);\n",
    "               circleView.touch();\n",
    "               };\n",
    "\n",
    "            var clearButton = $('<button>Clear Circles</button>').click(clearCircles);\n",
    "            toolbarDiv.append(clearButton);\n",
    "            return(div);\n",
    "            },\n",
    "  \n",
    "        createCanvas: function(){\n",
    "           var svg = d3.select(\"#d3DemoDiv\")\n",
    "                       .append(\"svg\")\n",
    "                       .attr(\"id\", \"svg\").attr(\"width\", 600).attr(\"height\", 300);\n",
    "           this.svg = svg;\n",
    "           var circleView = this;\n",
    "           svg.on('click', function() {\n",
    "              var coords = d3.mouse(this);\n",
    "              var newCircle = {x: coords[0], y: coords[1], radius: 20,\n",
    "                               borderColor: \"black\", fillColor: \"beige\"};\n",
    "              circleView.circles.push(newCircle);\n",
    "              circleView.drawCircle(newCircle, \"blue\");\n",
    "              });\n",
    "           }, \n",
    "\n",
    "        createHeatmap: function() {\n",
    "          var network_data =\n",
    "            {\"views\":\n",
    "               [{\"N_row_sum\": \"all\", \"dist\": \"cos\", \"nodes\":\n",
    "                  {\"col_nodes\": [{\"ini\": 3, \"rank\": 2, \"name\": \"s01_120405\", \"clust\": 1,\n",
    "                                  \"group\": [1.0, 1.0, 1.0, 1.0, 1.0, 1.0, 1.0, 1.0, 1.0, 1.0, 1.0], \"rankvar\": 2},\n",
    "                                 {\"ini\": 2, \"rank\": 1, \"name\": \"s02_120405\", \"clust\": 0,\n",
    "                                  \"group\": [3.0, 3.0, 2.0, 2.0, 2.0, 2.0, 2.0, 1.0, 1.0, 1.0, 1.0], \"rankvar\": 0},\n",
    "                                 {\"ini\": 1, \"rank\": 0, \"name\": \"s03_120405\", \"clust\": 2,\n",
    "                                  \"group\": [2.0, 2.0, 1.0, 1.0, 1.0, 1.0, 1.0, 1.0, 1.0, 1.0, 1.0], \"rankvar\": 1}],\n",
    "                   \"row_nodes\": [{\"ini\": 2, \"rank\": 0, \"name\": \"HLTF\", \"clust\": 0,\n",
    "                                  \"group\": [1.0, 1.0, 1.0, 1.0, 1.0, 1.0, 1.0, 1.0, 1.0, 1.0, 1.0], \"rankvar\": 0},\n",
    "                                 {\"ini\": 1, \"rank\": 1, \"name\": \"POU2F1\", \"clust\": 1,\n",
    "                                  \"group\": [2.0, 2.0, 2.0, 2.0, 2.0, 2.0, 2.0, 2.0, 2.0, 2.0, 1.0], \"rankvar\": 1}]}},\n",
    "                {\"dist\": \"cos\", \"N_row_var\": \"all\", \"nodes\":\n",
    "                  {\"col_nodes\": [{\"ini\": 3, \"rank\": 2, \"name\": \"s01_120405\", \"clust\": 1,\n",
    "                                  \"group\": [1.0, 1.0, 1.0, 1.0, 1.0, 1.0, 1.0, 1.0, 1.0, 1.0, 1.0], \"rankvar\": 2},\n",
    "                                 {\"ini\": 2, \"rank\": 1, \"name\": \"s02_120405\", \"clust\": 0,\n",
    "                                  \"group\": [3.0, 3.0, 2.0, 2.0, 2.0, 2.0, 2.0, 1.0, 1.0, 1.0, 1.0], \"rankvar\": 0},\n",
    "                                 {\"ini\": 1, \"rank\": 0, \"name\": \"s03_120405\", \"clust\": 2,\n",
    "                                  \"group\": [2.0, 2.0, 1.0, 1.0, 1.0, 1.0, 1.0, 1.0, 1.0, 1.0, 1.0], \"rankvar\": 1}],\n",
    "                   \"row_nodes\": [{\"ini\": 2, \"rank\": 0, \"name\": \"HLTF\", \"clust\": 0,\n",
    "                                  \"group\": [1.0, 1.0, 1.0, 1.0, 1.0, 1.0, 1.0, 1.0, 1.0, 1.0, 1.0], \"rankvar\": 0},\n",
    "                                 {\"ini\": 1, \"rank\": 1, \"name\": \"POU2F1\", \"clust\": 1,\n",
    "                                  \"group\": [2.0, 2.0, 2.0, 2.0, 2.0, 2.0, 2.0, 2.0, 2.0, 2.0, 1.0], \"rankvar\": 1}]}}],\n",
    "               \"col_nodes\": [{\"ini\": 3, \"rank\": 2, \"name\": \"s01_120405\", \"clust\": 1,\n",
    "                              \"group\": [1.0, 1.0, 1.0, 1.0, 1.0, 1.0, 1.0, 1.0, 1.0, 1.0, 1.0], \"rankvar\": 2},\n",
    "                             {\"ini\": 2, \"rank\": 1, \"name\": \"s02_120405\", \"clust\": 0,\n",
    "                              \"group\": [3.0, 3.0, 2.0, 2.0, 2.0, 2.0, 2.0, 1.0, 1.0, 1.0, 1.0], \"rankvar\": 0},\n",
    "                             {\"ini\": 1, \"rank\": 0, \"name\": \"s03_120405\", \"clust\": 2,\n",
    "                              \"group\": [2.0, 2.0, 1.0, 1.0, 1.0, 1.0, 1.0, 1.0, 1.0, 1.0, 1.0], \"rankvar\": 1}],\n",
    "               \"links\": [{\"target\": 0, \"value\": 5.591991, \"source\": 0},\n",
    "                         {\"target\": 1, \"value\": 11.939007, \"source\": 0},\n",
    "                         {\"target\": 2, \"value\": 7.738552, \"source\": 0},\n",
    "                         {\"target\": 0, \"value\": 31.060965999999997, \"source\": 1},\n",
    "                         {\"target\": 1, \"value\": 18.00348, \"source\": 1},\n",
    "                         {\"target\": 2, \"value\": 21.577569, \"source\": 1}],\n",
    "               \"row_nodes\": [{\"ini\": 2, \"rank\": 0, \"name\": \"HLTF\", \"clust\": 0,\n",
    "                              \"group\": [1.0, 1.0, 1.0, 1.0, 1.0, 1.0, 1.0, 1.0, 1.0, 1.0, 1.0], \"rankvar\": 0},\n",
    "                             {\"ini\": 1, \"rank\": 1, \"name\": \"POU2F1\", \"clust\": 1,\n",
    "                              \"group\": [2.0, 2.0, 2.0, 2.0, 2.0, 2.0, 2.0, 2.0, 2.0, 2.0, 1.0], \"rankvar\": 1}]};\n",
    "       \n",
    "          make_clust(network_data);\n",
    "          var about_string = 'Zoom, scroll, and click buttons to interact with the clustergram. <a href=\"http://amp.pharm.mssm.edu/clustergrammer/help\"> <i class=\"fa fa-question-circle\" aria-hidden=\"true\"></i> </a>';\n",
    "          function make_clust(network_data){\n",
    "             var args = {\n",
    "                'root': '#heatmapDiv',\n",
    "                'network_data': network_data,\n",
    "                'about': about_string,\n",
    "                'sidebar_width':150,\n",
    "                };\n",
    "             var screen_width = window.innerWidth;\n",
    "             var screen_height = 300;\n",
    "             $(\"#heatmapDiv\").width(screen_width);\n",
    "             $(\"#heatmapDiv\").height(screen_height);\n",
    "             cgm = Clustergrammer(args);\n",
    "             $(\"#heatmapDiv .wait_message\").remove()\n",
    "             console.log('loading clustergrammer')\n",
    "             } // make_clust\n",
    "         }, // createHeatmap\n",
    "\n",
    "        drawCircle: function(obj, color){\n",
    "           this.svg.append(\"circle\")\n",
    "              .style(\"stroke\", color)\n",
    "              .style(\"fill\", \"white\")\n",
    "              .attr(\"r\", obj.radius)\n",
    "              .attr(\"cx\", obj.x)\n",
    "              .attr(\"cy\", obj.y)\n",
    "              .on(\"mouseover\", function(){d3.select(this).style(\"fill\", \"aliceblue\");})\n",
    "              .on(\"mouseout\",  function(){d3.select(this).style(\"fill\", \"white\");});\n",
    "           this.circleCount += 1;\n",
    "           $(\"#circleCountReadout\").val(this.circleCount);\n",
    "           this.model.set(\"circleCount\", this.circleCount);\n",
    "           this.touch();\n",
    "           },\n",
    "\n",
    "        render: function() { \n",
    "            this.$el.append(this.createDiv());\n",
    "            this.listenTo(this.model, 'change:newCircleRequest', this.newCircleRequested, this);\n",
    "            var circleView = this;\n",
    "            function delayCanvasCreationUntilDivExists(){ \n",
    "                 // would be better to trigger on DOM div creation. not knowing how to do that, \n",
    "                 // this setTimeout hack will have to suffice.\n",
    "                circleView.createCanvas();\n",
    "                circleView.createHeatmap();\n",
    "               }\n",
    "            setTimeout(delayCanvasCreationUntilDivExists, 0);\n",
    "            },\n",
    "\n",
    "        newCircleRequested: function() {\n",
    "           var newCircle = this.model.get(\"newCircleRequest\")[0];\n",
    "           this.circles.push(newCircle);\n",
    "           this.drawCircle(newCircle, \"red\");\n",
    "           }\n",
    "\n",
    "    });\n",
    "    return {\n",
    "        CircleView : CircleView\n",
    "    };\n",
    "});"
   ]
  },
  {
   "cell_type": "code",
   "execution_count": 24,
   "metadata": {
    "collapsed": false,
    "deletable": true,
    "editable": true
   },
   "outputs": [
    {
     "data": {
      "application/vnd.jupyter.widget-view+json": {
       "model_id": "cf999c6864134ad2bb15bdca9d33a75f"
      }
     },
     "metadata": {},
     "output_type": "display_data"
    }
   ],
   "source": [
    "cw = CircleWidget(width=500, height=300)\n",
    "cw"
   ]
  },
  {
   "cell_type": "code",
   "execution_count": 10,
   "metadata": {
    "collapsed": false,
    "deletable": true,
    "editable": true
   },
   "outputs": [],
   "source": [
    "cw.drawCircle(x=30, y=30, radius=10)"
   ]
  },
  {
   "cell_type": "code",
   "execution_count": 13,
   "metadata": {
    "collapsed": false,
    "deletable": true,
    "editable": true
   },
   "outputs": [],
   "source": [
    "cw.drawCircle(x=400, y=200, radius=30)"
   ]
  },
  {
   "cell_type": "code",
   "execution_count": null,
   "metadata": {
    "collapsed": false,
    "deletable": true,
    "editable": true
   },
   "outputs": [],
   "source": [
    "cw.getCount()"
   ]
  },
  {
   "cell_type": "code",
   "execution_count": null,
   "metadata": {
    "collapsed": true,
    "deletable": true,
    "editable": true
   },
   "outputs": [],
   "source": []
  }
 ],
 "metadata": {
  "kernelspec": {
   "display_name": "Python 3",
   "language": "python",
   "name": "python3"
  },
  "language_info": {
   "codemirror_mode": {
    "name": "ipython",
    "version": 3
   },
   "file_extension": ".py",
   "mimetype": "text/x-python",
   "name": "python",
   "nbconvert_exporter": "python",
   "pygments_lexer": "ipython3",
   "version": "3.6.0"
  }
 },
 "nbformat": 4,
 "nbformat_minor": 0
}
